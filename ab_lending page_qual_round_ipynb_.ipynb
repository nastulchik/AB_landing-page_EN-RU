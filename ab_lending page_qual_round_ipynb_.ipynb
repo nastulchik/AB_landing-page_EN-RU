{
  "nbformat": 4,
  "nbformat_minor": 0,
  "metadata": {
    "kernelspec": {
      "display_name": "Python 3",
      "language": "python",
      "name": "python3"
    },
    "language_info": {
      "codemirror_mode": {
        "name": "ipython",
        "version": 3
      },
      "file_extension": ".py",
      "mimetype": "text/x-python",
      "name": "python",
      "nbconvert_exporter": "python",
      "pygments_lexer": "ipython3",
      "version": "3.5.2"
    },
    "colab": {
      "provenance": []
    }
  },
  "cells": [
    {
      "cell_type": "code",
      "metadata": {
        "id": "jd4V_Jf-1zqc"
      },
      "source": [
        "import pandas as pd"
      ],
      "execution_count": null,
      "outputs": []
    },
    {
      "cell_type": "code",
      "metadata": {
        "id": "PxR11_H21zqt"
      },
      "source": [
        "from tabulate import tabulate"
      ],
      "execution_count": null,
      "outputs": []
    },
    {
      "cell_type": "code",
      "metadata": {
        "id": "IVWrBCWg1zqu"
      },
      "source": [
        "ab_test_hit = pd.read_csv('Downloads/career_factory/AB Test Hit.csv')"
      ],
      "execution_count": null,
      "outputs": []
    },
    {
      "cell_type": "code",
      "metadata": {
        "id": "YJjZvlLC1zqv",
        "outputId": "5f23a190-7ef0-45d9-edb0-ed18dfec1777"
      },
      "source": [
        "ab_test_hit.head()"
      ],
      "execution_count": null,
      "outputs": [
        {
          "output_type": "execute_result",
          "data": {
            "text/html": [
              "<div>\n",
              "<style scoped>\n",
              "    .dataframe tbody tr th:only-of-type {\n",
              "        vertical-align: middle;\n",
              "    }\n",
              "\n",
              "    .dataframe tbody tr th {\n",
              "        vertical-align: top;\n",
              "    }\n",
              "\n",
              "    .dataframe thead th {\n",
              "        text-align: right;\n",
              "    }\n",
              "</style>\n",
              "<table border=\"1\" class=\"dataframe\">\n",
              "  <thead>\n",
              "    <tr style=\"text-align: right;\">\n",
              "      <th></th>\n",
              "      <th>hit_at</th>\n",
              "      <th>anonymous_id</th>\n",
              "      <th>group</th>\n",
              "      <th>device_type</th>\n",
              "      <th>browser</th>\n",
              "      <th>os</th>\n",
              "    </tr>\n",
              "  </thead>\n",
              "  <tbody>\n",
              "    <tr>\n",
              "      <th>0</th>\n",
              "      <td>2020-11-30 04:21:38.616 UTC</td>\n",
              "      <td>3e05a2dc-3922-4caf-b837-08fcb337c82e</td>\n",
              "      <td>default</td>\n",
              "      <td>desktop</td>\n",
              "      <td>IE</td>\n",
              "      <td>Windows</td>\n",
              "    </tr>\n",
              "    <tr>\n",
              "      <th>1</th>\n",
              "      <td>2020-12-01 20:24:04.363 UTC</td>\n",
              "      <td>7f00b6ca-7938-4866-a323-c520838f5ef9</td>\n",
              "      <td>default</td>\n",
              "      <td>desktop</td>\n",
              "      <td>IE</td>\n",
              "      <td>Windows</td>\n",
              "    </tr>\n",
              "    <tr>\n",
              "      <th>2</th>\n",
              "      <td>2020-11-28 20:16:52.901 UTC</td>\n",
              "      <td>91e9900e-2cc6-4362-92b4-9e6712a6918e</td>\n",
              "      <td>address_first</td>\n",
              "      <td>desktop</td>\n",
              "      <td>IE</td>\n",
              "      <td>Windows</td>\n",
              "    </tr>\n",
              "    <tr>\n",
              "      <th>3</th>\n",
              "      <td>2020-11-29 13:29:40.557 UTC</td>\n",
              "      <td>616dd5e8-dee2-47aa-9d80-0dfadcf1922f</td>\n",
              "      <td>default</td>\n",
              "      <td>desktop</td>\n",
              "      <td>IE</td>\n",
              "      <td>Windows</td>\n",
              "    </tr>\n",
              "    <tr>\n",
              "      <th>4</th>\n",
              "      <td>2020-11-27 14:56:29.471 UTC</td>\n",
              "      <td>64734da4-d9f3-4d53-b401-4d0819a6e5fb</td>\n",
              "      <td>default</td>\n",
              "      <td>desktop</td>\n",
              "      <td>IE</td>\n",
              "      <td>Windows</td>\n",
              "    </tr>\n",
              "  </tbody>\n",
              "</table>\n",
              "</div>"
            ],
            "text/plain": [
              "                        hit_at                          anonymous_id  \\\n",
              "0  2020-11-30 04:21:38.616 UTC  3e05a2dc-3922-4caf-b837-08fcb337c82e   \n",
              "1  2020-12-01 20:24:04.363 UTC  7f00b6ca-7938-4866-a323-c520838f5ef9   \n",
              "2  2020-11-28 20:16:52.901 UTC  91e9900e-2cc6-4362-92b4-9e6712a6918e   \n",
              "3  2020-11-29 13:29:40.557 UTC  616dd5e8-dee2-47aa-9d80-0dfadcf1922f   \n",
              "4  2020-11-27 14:56:29.471 UTC  64734da4-d9f3-4d53-b401-4d0819a6e5fb   \n",
              "\n",
              "           group device_type browser       os  \n",
              "0        default     desktop      IE  Windows  \n",
              "1        default     desktop      IE  Windows  \n",
              "2  address_first     desktop      IE  Windows  \n",
              "3        default     desktop      IE  Windows  \n",
              "4        default     desktop      IE  Windows  "
            ]
          },
          "metadata": {
            "tags": []
          },
          "execution_count": 4
        }
      ]
    },
    {
      "cell_type": "code",
      "metadata": {
        "id": "Us_UJVSR1zqx",
        "outputId": "c31bb2db-23f9-4a3f-bff5-d00a6c8b773e"
      },
      "source": [
        "# сколько юзеров в группе экспа? есть ли айди без группы?\n",
        "\n",
        "ab_test_hit['group'].value_counts()"
      ],
      "execution_count": null,
      "outputs": [
        {
          "output_type": "execute_result",
          "data": {
            "text/plain": [
              "default          446474\n",
              "address_first     56310\n",
              "Name: group, dtype: int64"
            ]
          },
          "metadata": {
            "tags": []
          },
          "execution_count": 5
        }
      ]
    },
    {
      "cell_type": "code",
      "metadata": {
        "id": "F5xTdpLh1zqy"
      },
      "source": [
        "# есть кто попал в обе группы экспа?\n",
        "\n",
        "id_grouped = ab_test_hit.groupby('anonymous_id').agg({'group':'nunique'})"
      ],
      "execution_count": null,
      "outputs": []
    },
    {
      "cell_type": "code",
      "metadata": {
        "id": "9_3Rh5qI1zqz"
      },
      "source": [
        "# этих надо будет вычистить\n",
        "\n",
        "doubles = id_grouped[id_grouped['group']==2].reset_index()"
      ],
      "execution_count": null,
      "outputs": []
    },
    {
      "cell_type": "code",
      "metadata": {
        "id": "dKDyQgEF1zq0",
        "outputId": "a8dc3f13-2768-4a73-c8e6-d33b893d0d98"
      },
      "source": [
        "doubles.head()"
      ],
      "execution_count": null,
      "outputs": [
        {
          "output_type": "execute_result",
          "data": {
            "text/html": [
              "<div>\n",
              "<style scoped>\n",
              "    .dataframe tbody tr th:only-of-type {\n",
              "        vertical-align: middle;\n",
              "    }\n",
              "\n",
              "    .dataframe tbody tr th {\n",
              "        vertical-align: top;\n",
              "    }\n",
              "\n",
              "    .dataframe thead th {\n",
              "        text-align: right;\n",
              "    }\n",
              "</style>\n",
              "<table border=\"1\" class=\"dataframe\">\n",
              "  <thead>\n",
              "    <tr style=\"text-align: right;\">\n",
              "      <th></th>\n",
              "      <th>anonymous_id</th>\n",
              "      <th>group</th>\n",
              "    </tr>\n",
              "  </thead>\n",
              "  <tbody>\n",
              "    <tr>\n",
              "      <th>0</th>\n",
              "      <td>0045db67-ef5c-4a6b-81b4-3e079d79b073</td>\n",
              "      <td>2</td>\n",
              "    </tr>\n",
              "    <tr>\n",
              "      <th>1</th>\n",
              "      <td>00687c2a-5eea-4b21-befb-c507b75db12e</td>\n",
              "      <td>2</td>\n",
              "    </tr>\n",
              "    <tr>\n",
              "      <th>2</th>\n",
              "      <td>008dbd14-e52f-4a59-b3ce-4655526c32a6</td>\n",
              "      <td>2</td>\n",
              "    </tr>\n",
              "    <tr>\n",
              "      <th>3</th>\n",
              "      <td>009615c6-aadf-4c79-a0d9-2b0fa5e4bf09</td>\n",
              "      <td>2</td>\n",
              "    </tr>\n",
              "    <tr>\n",
              "      <th>4</th>\n",
              "      <td>00998353-1778-4cb3-876f-8a1e110c8e7a</td>\n",
              "      <td>2</td>\n",
              "    </tr>\n",
              "  </tbody>\n",
              "</table>\n",
              "</div>"
            ],
            "text/plain": [
              "                           anonymous_id  group\n",
              "0  0045db67-ef5c-4a6b-81b4-3e079d79b073      2\n",
              "1  00687c2a-5eea-4b21-befb-c507b75db12e      2\n",
              "2  008dbd14-e52f-4a59-b3ce-4655526c32a6      2\n",
              "3  009615c6-aadf-4c79-a0d9-2b0fa5e4bf09      2\n",
              "4  00998353-1778-4cb3-876f-8a1e110c8e7a      2"
            ]
          },
          "metadata": {
            "tags": []
          },
          "execution_count": 8
        }
      ]
    },
    {
      "cell_type": "code",
      "metadata": {
        "id": "IP8iQiLJ1zq1",
        "outputId": "229824c6-0f90-47c9-aad1-c4fa62f05184"
      },
      "source": [
        "len(doubles)"
      ],
      "execution_count": null,
      "outputs": [
        {
          "output_type": "execute_result",
          "data": {
            "text/plain": [
              "528"
            ]
          },
          "metadata": {
            "tags": []
          },
          "execution_count": 67
        }
      ]
    },
    {
      "cell_type": "code",
      "metadata": {
        "id": "rWlv3pze1zq2"
      },
      "source": [
        "ab_test_clean = ab_test_hit[~ab_test_hit['anonymous_id'].isin(doubles['anonymous_id'])]"
      ],
      "execution_count": null,
      "outputs": []
    },
    {
      "cell_type": "code",
      "metadata": {
        "id": "ZWpW6Tu91zq2",
        "outputId": "0337e093-1f7d-4540-c09a-9a2cdc9beda3"
      },
      "source": [
        "len(ab_test_hit), len(ab_test_clean)"
      ],
      "execution_count": null,
      "outputs": [
        {
          "output_type": "execute_result",
          "data": {
            "text/plain": [
              "(502784, 501626)"
            ]
          },
          "metadata": {
            "tags": []
          },
          "execution_count": 9
        }
      ]
    },
    {
      "cell_type": "code",
      "metadata": {
        "id": "FsqOwcux1zq3",
        "outputId": "383eb943-217b-4323-b4ad-c4cb895b4411"
      },
      "source": [
        "# корректные ли таймстемпы?\n",
        "\n",
        "ab_test_clean['hit_at'].min(), ab_test_clean['hit_at'].max(), ab_test_clean['hit_at'].value_counts()[:30]"
      ],
      "execution_count": null,
      "outputs": [
        {
          "output_type": "execute_result",
          "data": {
            "text/plain": [
              "('2020-11-26 00:00:10.318 UTC',\n",
              " '2020-12-10 23:59:57.308 UTC',\n",
              " 2020-12-03 05:33:34.021 UTC    3\n",
              " 2020-12-07 12:07:26.999 UTC    2\n",
              " 2020-11-26 10:26:15.385 UTC    2\n",
              " 2020-12-09 12:30:24.166 UTC    2\n",
              " 2020-12-03 06:28:26.962 UTC    2\n",
              " 2020-12-05 07:30:33.315 UTC    2\n",
              " 2020-12-07 10:45:49.385 UTC    2\n",
              " 2020-11-29 19:16:32.494 UTC    2\n",
              " 2020-12-04 13:41:12.082 UTC    2\n",
              " 2020-12-03 12:14:07.073 UTC    2\n",
              " 2020-11-27 17:12:19.311 UTC    2\n",
              " 2020-11-28 11:32:52.427 UTC    2\n",
              " 2020-12-09 10:44:38.297 UTC    2\n",
              " 2020-12-06 09:40:16.267 UTC    2\n",
              " 2020-12-04 09:50:53.967 UTC    2\n",
              " 2020-12-05 18:00:24.429 UTC    2\n",
              " 2020-12-09 12:22:46.903 UTC    2\n",
              " 2020-11-26 11:03:21.435 UTC    2\n",
              " 2020-12-10 12:31:37.018 UTC    2\n",
              " 2020-12-04 12:56:11.941 UTC    2\n",
              " 2020-11-27 16:37:25.702 UTC    2\n",
              " 2020-11-28 09:11:34.105 UTC    2\n",
              " 2020-12-08 15:56:24.288 UTC    2\n",
              " 2020-12-04 11:33:18.227 UTC    2\n",
              " 2020-12-08 10:56:26.092 UTC    2\n",
              " 2020-12-05 19:31:40.297 UTC    2\n",
              " 2020-11-27 11:22:36.688 UTC    2\n",
              " 2020-12-10 15:01:17.745 UTC    2\n",
              " 2020-12-10 12:00:06.922 UTC    2\n",
              " 2020-12-08 14:13:47.024 UTC    2\n",
              " Name: hit_at, dtype: int64)"
            ]
          },
          "metadata": {
            "tags": []
          },
          "execution_count": 10
        }
      ]
    },
    {
      "cell_type": "code",
      "metadata": {
        "id": "MmYonDp61zq4",
        "outputId": "fc2f0ac3-dc9c-41e3-d84c-1e319dfcd706"
      },
      "source": [
        "# полных дублей нет\n",
        "\n",
        "len(ab_test_clean), len(ab_test_clean.drop_duplicates())"
      ],
      "execution_count": null,
      "outputs": [
        {
          "output_type": "execute_result",
          "data": {
            "text/plain": [
              "(501626, 501626)"
            ]
          },
          "metadata": {
            "tags": []
          },
          "execution_count": 33
        }
      ]
    },
    {
      "cell_type": "code",
      "metadata": {
        "id": "bQko15CS1zrA"
      },
      "source": [
        "hits = ab_test_clean['hit_at']\n",
        "hits_duplicates = ab_test_clean[hits.isin(hits[hits.duplicated()])].sort_values('hit_at')"
      ],
      "execution_count": null,
      "outputs": []
    },
    {
      "cell_type": "code",
      "metadata": {
        "id": "aXOcF3S21zrC",
        "outputId": "2f1a8cef-2b16-48c5-ad1e-21aeb3d1a630"
      },
      "source": [
        "hits_duplicates.head(15)"
      ],
      "execution_count": null,
      "outputs": [
        {
          "output_type": "execute_result",
          "data": {
            "text/html": [
              "<div>\n",
              "<style scoped>\n",
              "    .dataframe tbody tr th:only-of-type {\n",
              "        vertical-align: middle;\n",
              "    }\n",
              "\n",
              "    .dataframe tbody tr th {\n",
              "        vertical-align: top;\n",
              "    }\n",
              "\n",
              "    .dataframe thead th {\n",
              "        text-align: right;\n",
              "    }\n",
              "</style>\n",
              "<table border=\"1\" class=\"dataframe\">\n",
              "  <thead>\n",
              "    <tr style=\"text-align: right;\">\n",
              "      <th></th>\n",
              "      <th>hit_at</th>\n",
              "      <th>anonymous_id</th>\n",
              "      <th>group</th>\n",
              "      <th>device_type</th>\n",
              "      <th>browser</th>\n",
              "      <th>os</th>\n",
              "    </tr>\n",
              "  </thead>\n",
              "  <tbody>\n",
              "    <tr>\n",
              "      <th>16276</th>\n",
              "      <td>2020-11-26 06:57:42.963 UTC</td>\n",
              "      <td>ad16fc32-86bd-43cb-af83-8e36733c40f9</td>\n",
              "      <td>default</td>\n",
              "      <td>desktop</td>\n",
              "      <td>Opera</td>\n",
              "      <td>Windows</td>\n",
              "    </tr>\n",
              "    <tr>\n",
              "      <th>29307</th>\n",
              "      <td>2020-11-26 06:57:42.963 UTC</td>\n",
              "      <td>0098e91d-541e-45ba-8a59-297a3ad04ab8</td>\n",
              "      <td>default</td>\n",
              "      <td>desktop</td>\n",
              "      <td>Chrome</td>\n",
              "      <td>Linux</td>\n",
              "    </tr>\n",
              "    <tr>\n",
              "      <th>427119</th>\n",
              "      <td>2020-11-26 09:57:48.615 UTC</td>\n",
              "      <td>fb53cc88-0ace-436b-83ea-1f3e294c7b6f</td>\n",
              "      <td>default</td>\n",
              "      <td>mobile</td>\n",
              "      <td>Mobile Safari</td>\n",
              "      <td>iOS</td>\n",
              "    </tr>\n",
              "    <tr>\n",
              "      <th>271284</th>\n",
              "      <td>2020-11-26 09:57:48.615 UTC</td>\n",
              "      <td>83fa2194-f9a6-4b9c-88a9-7d57b25df0b6</td>\n",
              "      <td>default</td>\n",
              "      <td>desktop</td>\n",
              "      <td>Chrome</td>\n",
              "      <td>Windows</td>\n",
              "    </tr>\n",
              "    <tr>\n",
              "      <th>440538</th>\n",
              "      <td>2020-11-26 10:08:18.336 UTC</td>\n",
              "      <td>70f82e1b-0f02-4383-8486-1bcb2dfcab95</td>\n",
              "      <td>default</td>\n",
              "      <td>mobile</td>\n",
              "      <td>Mobile Safari</td>\n",
              "      <td>iOS</td>\n",
              "    </tr>\n",
              "    <tr>\n",
              "      <th>84860</th>\n",
              "      <td>2020-11-26 10:08:18.336 UTC</td>\n",
              "      <td>2bf8dcc3-69c0-4957-a97a-dfbb0cd5a76c</td>\n",
              "      <td>default</td>\n",
              "      <td>mobile</td>\n",
              "      <td>Chrome</td>\n",
              "      <td>Android</td>\n",
              "    </tr>\n",
              "    <tr>\n",
              "      <th>33441</th>\n",
              "      <td>2020-11-26 10:26:15.385 UTC</td>\n",
              "      <td>6d034bd8-80c1-4ac2-813e-f3191011be3c</td>\n",
              "      <td>default</td>\n",
              "      <td>desktop</td>\n",
              "      <td>Chrome</td>\n",
              "      <td>Linux</td>\n",
              "    </tr>\n",
              "    <tr>\n",
              "      <th>210264</th>\n",
              "      <td>2020-11-26 10:26:15.385 UTC</td>\n",
              "      <td>92fe9daa-6345-4799-847e-cef94376c958</td>\n",
              "      <td>default</td>\n",
              "      <td>desktop</td>\n",
              "      <td>Chrome</td>\n",
              "      <td>Windows</td>\n",
              "    </tr>\n",
              "    <tr>\n",
              "      <th>393547</th>\n",
              "      <td>2020-11-26 10:47:30.239 UTC</td>\n",
              "      <td>abec216c-c204-4385-8734-4bf4dae1f493</td>\n",
              "      <td>default</td>\n",
              "      <td>mobile</td>\n",
              "      <td>Mobile Safari</td>\n",
              "      <td>iOS</td>\n",
              "    </tr>\n",
              "    <tr>\n",
              "      <th>114537</th>\n",
              "      <td>2020-11-26 10:47:30.239 UTC</td>\n",
              "      <td>6d321286-bf1a-4c15-b96f-7a041616ec06</td>\n",
              "      <td>address_first</td>\n",
              "      <td>mobile</td>\n",
              "      <td>Chrome</td>\n",
              "      <td>Android</td>\n",
              "    </tr>\n",
              "    <tr>\n",
              "      <th>496721</th>\n",
              "      <td>2020-11-26 11:03:21.435 UTC</td>\n",
              "      <td>277c7fb8-0037-49ec-b961-25875bcca674</td>\n",
              "      <td>default</td>\n",
              "      <td>mobile</td>\n",
              "      <td>Samsung Browser</td>\n",
              "      <td>Android</td>\n",
              "    </tr>\n",
              "    <tr>\n",
              "      <th>445562</th>\n",
              "      <td>2020-11-26 11:03:21.435 UTC</td>\n",
              "      <td>d52866f4-5067-41bf-85a4-ac39ee34e692</td>\n",
              "      <td>address_first</td>\n",
              "      <td>mobile</td>\n",
              "      <td>Mobile Safari</td>\n",
              "      <td>iOS</td>\n",
              "    </tr>\n",
              "    <tr>\n",
              "      <th>295194</th>\n",
              "      <td>2020-11-26 12:08:23.372 UTC</td>\n",
              "      <td>8291b4d1-c9ce-4646-87b5-68f97b30ada1</td>\n",
              "      <td>default</td>\n",
              "      <td>mobile</td>\n",
              "      <td>WebKit</td>\n",
              "      <td>iOS</td>\n",
              "    </tr>\n",
              "    <tr>\n",
              "      <th>61495</th>\n",
              "      <td>2020-11-26 12:08:23.372 UTC</td>\n",
              "      <td>b530d16b-7f62-4843-a539-eda970c73f74</td>\n",
              "      <td>default</td>\n",
              "      <td>desktop</td>\n",
              "      <td>Chrome</td>\n",
              "      <td>Linux</td>\n",
              "    </tr>\n",
              "    <tr>\n",
              "      <th>388</th>\n",
              "      <td>2020-11-26 12:15:49.531 UTC</td>\n",
              "      <td>d3360f62-e162-4f12-9a47-580ff7c8aeb3</td>\n",
              "      <td>address_first</td>\n",
              "      <td>mobile</td>\n",
              "      <td>GSA</td>\n",
              "      <td>iOS</td>\n",
              "    </tr>\n",
              "  </tbody>\n",
              "</table>\n",
              "</div>"
            ],
            "text/plain": [
              "                             hit_at                          anonymous_id  \\\n",
              "16276   2020-11-26 06:57:42.963 UTC  ad16fc32-86bd-43cb-af83-8e36733c40f9   \n",
              "29307   2020-11-26 06:57:42.963 UTC  0098e91d-541e-45ba-8a59-297a3ad04ab8   \n",
              "427119  2020-11-26 09:57:48.615 UTC  fb53cc88-0ace-436b-83ea-1f3e294c7b6f   \n",
              "271284  2020-11-26 09:57:48.615 UTC  83fa2194-f9a6-4b9c-88a9-7d57b25df0b6   \n",
              "440538  2020-11-26 10:08:18.336 UTC  70f82e1b-0f02-4383-8486-1bcb2dfcab95   \n",
              "84860   2020-11-26 10:08:18.336 UTC  2bf8dcc3-69c0-4957-a97a-dfbb0cd5a76c   \n",
              "33441   2020-11-26 10:26:15.385 UTC  6d034bd8-80c1-4ac2-813e-f3191011be3c   \n",
              "210264  2020-11-26 10:26:15.385 UTC  92fe9daa-6345-4799-847e-cef94376c958   \n",
              "393547  2020-11-26 10:47:30.239 UTC  abec216c-c204-4385-8734-4bf4dae1f493   \n",
              "114537  2020-11-26 10:47:30.239 UTC  6d321286-bf1a-4c15-b96f-7a041616ec06   \n",
              "496721  2020-11-26 11:03:21.435 UTC  277c7fb8-0037-49ec-b961-25875bcca674   \n",
              "445562  2020-11-26 11:03:21.435 UTC  d52866f4-5067-41bf-85a4-ac39ee34e692   \n",
              "295194  2020-11-26 12:08:23.372 UTC  8291b4d1-c9ce-4646-87b5-68f97b30ada1   \n",
              "61495   2020-11-26 12:08:23.372 UTC  b530d16b-7f62-4843-a539-eda970c73f74   \n",
              "388     2020-11-26 12:15:49.531 UTC  d3360f62-e162-4f12-9a47-580ff7c8aeb3   \n",
              "\n",
              "                group device_type          browser       os  \n",
              "16276         default     desktop            Opera  Windows  \n",
              "29307         default     desktop           Chrome    Linux  \n",
              "427119        default      mobile    Mobile Safari      iOS  \n",
              "271284        default     desktop           Chrome  Windows  \n",
              "440538        default      mobile    Mobile Safari      iOS  \n",
              "84860         default      mobile           Chrome  Android  \n",
              "33441         default     desktop           Chrome    Linux  \n",
              "210264        default     desktop           Chrome  Windows  \n",
              "393547        default      mobile    Mobile Safari      iOS  \n",
              "114537  address_first      mobile           Chrome  Android  \n",
              "496721        default      mobile  Samsung Browser  Android  \n",
              "445562  address_first      mobile    Mobile Safari      iOS  \n",
              "295194        default      mobile           WebKit      iOS  \n",
              "61495         default     desktop           Chrome    Linux  \n",
              "388     address_first      mobile              GSA      iOS  "
            ]
          },
          "metadata": {
            "tags": []
          },
          "execution_count": 36
        }
      ]
    },
    {
      "cell_type": "markdown",
      "metadata": {
        "id": "4TqShYYK1zrD"
      },
      "source": [
        "Окей, подозрительных дублей по датам я не вижу."
      ]
    },
    {
      "cell_type": "code",
      "metadata": {
        "id": "qdaehFtZ1zrE",
        "outputId": "fb7103dc-25bc-42b9-ef48-faf10b827b16"
      },
      "source": [
        "ab_test_clean.describe()"
      ],
      "execution_count": null,
      "outputs": [
        {
          "output_type": "execute_result",
          "data": {
            "text/html": [
              "<div>\n",
              "<style scoped>\n",
              "    .dataframe tbody tr th:only-of-type {\n",
              "        vertical-align: middle;\n",
              "    }\n",
              "\n",
              "    .dataframe tbody tr th {\n",
              "        vertical-align: top;\n",
              "    }\n",
              "\n",
              "    .dataframe thead th {\n",
              "        text-align: right;\n",
              "    }\n",
              "</style>\n",
              "<table border=\"1\" class=\"dataframe\">\n",
              "  <thead>\n",
              "    <tr style=\"text-align: right;\">\n",
              "      <th></th>\n",
              "      <th>hit_at</th>\n",
              "      <th>anonymous_id</th>\n",
              "      <th>group</th>\n",
              "      <th>device_type</th>\n",
              "      <th>browser</th>\n",
              "      <th>os</th>\n",
              "    </tr>\n",
              "  </thead>\n",
              "  <tbody>\n",
              "    <tr>\n",
              "      <th>count</th>\n",
              "      <td>501626</td>\n",
              "      <td>501626</td>\n",
              "      <td>501626</td>\n",
              "      <td>501626</td>\n",
              "      <td>501626</td>\n",
              "      <td>501625</td>\n",
              "    </tr>\n",
              "    <tr>\n",
              "      <th>unique</th>\n",
              "      <td>501339</td>\n",
              "      <td>488491</td>\n",
              "      <td>2</td>\n",
              "      <td>5</td>\n",
              "      <td>37</td>\n",
              "      <td>15</td>\n",
              "    </tr>\n",
              "    <tr>\n",
              "      <th>top</th>\n",
              "      <td>2020-12-03 05:33:34.021 UTC</td>\n",
              "      <td>5bb785fd-e0e7-447a-b0e1-a06328b31cbe</td>\n",
              "      <td>default</td>\n",
              "      <td>mobile</td>\n",
              "      <td>Chrome</td>\n",
              "      <td>Android</td>\n",
              "    </tr>\n",
              "    <tr>\n",
              "      <th>freq</th>\n",
              "      <td>3</td>\n",
              "      <td>18</td>\n",
              "      <td>445878</td>\n",
              "      <td>304624</td>\n",
              "      <td>249721</td>\n",
              "      <td>194624</td>\n",
              "    </tr>\n",
              "  </tbody>\n",
              "</table>\n",
              "</div>"
            ],
            "text/plain": [
              "                             hit_at                          anonymous_id  \\\n",
              "count                        501626                                501626   \n",
              "unique                       501339                                488491   \n",
              "top     2020-12-03 05:33:34.021 UTC  5bb785fd-e0e7-447a-b0e1-a06328b31cbe   \n",
              "freq                              3                                    18   \n",
              "\n",
              "          group device_type browser       os  \n",
              "count    501626      501626  501626   501625  \n",
              "unique        2           5      37       15  \n",
              "top     default      mobile  Chrome  Android  \n",
              "freq     445878      304624  249721   194624  "
            ]
          },
          "metadata": {
            "tags": []
          },
          "execution_count": 9
        }
      ]
    },
    {
      "cell_type": "code",
      "metadata": {
        "id": "V9dQjvMB1zrF",
        "outputId": "4d8b2490-c329-49ab-e63c-7b19047372d0"
      },
      "source": [
        "ab_test_clean['hit_at'].apply(lambda x: pd.to_datetime(x).date()).value_counts()"
      ],
      "execution_count": null,
      "outputs": [
        {
          "output_type": "execute_result",
          "data": {
            "text/plain": [
              "2020-12-06    37425\n",
              "2020-12-05    37155\n",
              "2020-12-09    35701\n",
              "2020-12-10    35507\n",
              "2020-12-08    35150\n",
              "2020-12-07    34913\n",
              "2020-12-04    34778\n",
              "2020-11-26    33653\n",
              "2020-12-03    33570\n",
              "2020-11-27    33072\n",
              "2020-11-28    32849\n",
              "2020-12-02    32045\n",
              "2020-11-29    29897\n",
              "2020-11-30    28508\n",
              "2020-12-01    27403\n",
              "Name: hit_at, dtype: int64"
            ]
          },
          "metadata": {
            "tags": []
          },
          "execution_count": 45
        }
      ]
    },
    {
      "cell_type": "markdown",
      "metadata": {
        "id": "NxDCGTF21zrH"
      },
      "source": [
        "Интересно, откуда дубли в айди."
      ]
    },
    {
      "cell_type": "code",
      "metadata": {
        "id": "551_L0u61zrH"
      },
      "source": [
        "ids = ab_test_clean['anonymous_id']\n",
        "ids_duplicates = ab_test_clean[ids.isin(ids[ids.duplicated()])].sort_values('anonymous_id')"
      ],
      "execution_count": null,
      "outputs": []
    },
    {
      "cell_type": "code",
      "metadata": {
        "id": "SKFAeEYq1zrI",
        "outputId": "6fbb5d2f-9489-4441-a4b9-8d7b1c7644b2"
      },
      "source": [
        "ids_duplicates.groupby('anonymous_id').nunique().describe()"
      ],
      "execution_count": null,
      "outputs": [
        {
          "output_type": "execute_result",
          "data": {
            "text/html": [
              "<div>\n",
              "<style scoped>\n",
              "    .dataframe tbody tr th:only-of-type {\n",
              "        vertical-align: middle;\n",
              "    }\n",
              "\n",
              "    .dataframe tbody tr th {\n",
              "        vertical-align: top;\n",
              "    }\n",
              "\n",
              "    .dataframe thead th {\n",
              "        text-align: right;\n",
              "    }\n",
              "</style>\n",
              "<table border=\"1\" class=\"dataframe\">\n",
              "  <thead>\n",
              "    <tr style=\"text-align: right;\">\n",
              "      <th></th>\n",
              "      <th>hit_at</th>\n",
              "      <th>anonymous_id</th>\n",
              "      <th>group</th>\n",
              "      <th>device_type</th>\n",
              "      <th>browser</th>\n",
              "      <th>os</th>\n",
              "    </tr>\n",
              "  </thead>\n",
              "  <tbody>\n",
              "    <tr>\n",
              "      <th>count</th>\n",
              "      <td>10592.000000</td>\n",
              "      <td>10592.0</td>\n",
              "      <td>10592.0</td>\n",
              "      <td>10592.000000</td>\n",
              "      <td>10592.000000</td>\n",
              "      <td>10592.000000</td>\n",
              "    </tr>\n",
              "    <tr>\n",
              "      <th>mean</th>\n",
              "      <td>2.240087</td>\n",
              "      <td>1.0</td>\n",
              "      <td>1.0</td>\n",
              "      <td>1.006231</td>\n",
              "      <td>1.005381</td>\n",
              "      <td>1.005098</td>\n",
              "    </tr>\n",
              "    <tr>\n",
              "      <th>std</th>\n",
              "      <td>0.864891</td>\n",
              "      <td>0.0</td>\n",
              "      <td>0.0</td>\n",
              "      <td>0.078695</td>\n",
              "      <td>0.073164</td>\n",
              "      <td>0.071223</td>\n",
              "    </tr>\n",
              "    <tr>\n",
              "      <th>min</th>\n",
              "      <td>2.000000</td>\n",
              "      <td>1.0</td>\n",
              "      <td>1.0</td>\n",
              "      <td>1.000000</td>\n",
              "      <td>1.000000</td>\n",
              "      <td>1.000000</td>\n",
              "    </tr>\n",
              "    <tr>\n",
              "      <th>25%</th>\n",
              "      <td>2.000000</td>\n",
              "      <td>1.0</td>\n",
              "      <td>1.0</td>\n",
              "      <td>1.000000</td>\n",
              "      <td>1.000000</td>\n",
              "      <td>1.000000</td>\n",
              "    </tr>\n",
              "    <tr>\n",
              "      <th>50%</th>\n",
              "      <td>2.000000</td>\n",
              "      <td>1.0</td>\n",
              "      <td>1.0</td>\n",
              "      <td>1.000000</td>\n",
              "      <td>1.000000</td>\n",
              "      <td>1.000000</td>\n",
              "    </tr>\n",
              "    <tr>\n",
              "      <th>75%</th>\n",
              "      <td>2.000000</td>\n",
              "      <td>1.0</td>\n",
              "      <td>1.0</td>\n",
              "      <td>1.000000</td>\n",
              "      <td>1.000000</td>\n",
              "      <td>1.000000</td>\n",
              "    </tr>\n",
              "    <tr>\n",
              "      <th>max</th>\n",
              "      <td>18.000000</td>\n",
              "      <td>1.0</td>\n",
              "      <td>1.0</td>\n",
              "      <td>2.000000</td>\n",
              "      <td>2.000000</td>\n",
              "      <td>2.000000</td>\n",
              "    </tr>\n",
              "  </tbody>\n",
              "</table>\n",
              "</div>"
            ],
            "text/plain": [
              "             hit_at  anonymous_id    group   device_type       browser  \\\n",
              "count  10592.000000       10592.0  10592.0  10592.000000  10592.000000   \n",
              "mean       2.240087           1.0      1.0      1.006231      1.005381   \n",
              "std        0.864891           0.0      0.0      0.078695      0.073164   \n",
              "min        2.000000           1.0      1.0      1.000000      1.000000   \n",
              "25%        2.000000           1.0      1.0      1.000000      1.000000   \n",
              "50%        2.000000           1.0      1.0      1.000000      1.000000   \n",
              "75%        2.000000           1.0      1.0      1.000000      1.000000   \n",
              "max       18.000000           1.0      1.0      2.000000      2.000000   \n",
              "\n",
              "                 os  \n",
              "count  10592.000000  \n",
              "mean       1.005098  \n",
              "std        0.071223  \n",
              "min        1.000000  \n",
              "25%        1.000000  \n",
              "50%        1.000000  \n",
              "75%        1.000000  \n",
              "max        2.000000  "
            ]
          },
          "metadata": {
            "tags": []
          },
          "execution_count": 53
        }
      ]
    },
    {
      "cell_type": "code",
      "metadata": {
        "id": "Fe2W48L21zrI",
        "outputId": "92d9a71b-a230-470d-db41-2c3b3c33a317"
      },
      "source": [
        "# Хочу проверить, что в 99% случаев всё, кроме таймстемпа определения в группу, одинаковое, и можно вычистить дубли.\n",
        "\n",
        "for value in ids_duplicates.groupby('anonymous_id').nunique().columns:\n",
        "    print(ids_duplicates.groupby('anonymous_id').nunique()[value].quantile(0.99))"
      ],
      "execution_count": null,
      "outputs": [
        {
          "output_type": "stream",
          "text": [
            "6.0\n",
            "1.0\n",
            "1.0\n",
            "1.0\n",
            "1.0\n",
            "1.0\n"
          ],
          "name": "stdout"
        }
      ]
    },
    {
      "cell_type": "code",
      "metadata": {
        "id": "P8bqnW631zrJ",
        "outputId": "f8ffacd8-9b25-4e50-d5be-6a98644be4c1"
      },
      "source": [
        "ab_test_clean.drop_duplicates(subset='anonymous_id', inplace=True)"
      ],
      "execution_count": null,
      "outputs": [
        {
          "output_type": "stream",
          "text": [
            "/usr/local/lib/python3.5/dist-packages/ipykernel_launcher.py:1: SettingWithCopyWarning: \n",
            "A value is trying to be set on a copy of a slice from a DataFrame\n",
            "\n",
            "See the caveats in the documentation: http://pandas.pydata.org/pandas-docs/stable/indexing.html#indexing-view-versus-copy\n",
            "  \"\"\"Entry point for launching an IPython kernel.\n"
          ],
          "name": "stderr"
        }
      ]
    },
    {
      "cell_type": "code",
      "metadata": {
        "id": "c0qoAZ8D1zrK",
        "outputId": "9f806177-ef43-46b0-c18c-387b560bbc74"
      },
      "source": [
        "len(ab_test_clean)"
      ],
      "execution_count": null,
      "outputs": [
        {
          "output_type": "execute_result",
          "data": {
            "text/plain": [
              "488491"
            ]
          },
          "metadata": {
            "tags": []
          },
          "execution_count": 57
        }
      ]
    },
    {
      "cell_type": "code",
      "metadata": {
        "id": "ybu-DS9A1zrL"
      },
      "source": [
        "landing_hits = pd.read_csv('Downloads/career_factory/Landing Viewed.csv')"
      ],
      "execution_count": null,
      "outputs": []
    },
    {
      "cell_type": "code",
      "metadata": {
        "id": "mbqgHg9m1zrL",
        "outputId": "1b0e4390-51ad-4cc0-c468-72837574d36a"
      },
      "source": [
        "landing_hits.head()"
      ],
      "execution_count": null,
      "outputs": [
        {
          "output_type": "execute_result",
          "data": {
            "text/html": [
              "<div>\n",
              "<style scoped>\n",
              "    .dataframe tbody tr th:only-of-type {\n",
              "        vertical-align: middle;\n",
              "    }\n",
              "\n",
              "    .dataframe tbody tr th {\n",
              "        vertical-align: top;\n",
              "    }\n",
              "\n",
              "    .dataframe thead th {\n",
              "        text-align: right;\n",
              "    }\n",
              "</style>\n",
              "<table border=\"1\" class=\"dataframe\">\n",
              "  <thead>\n",
              "    <tr style=\"text-align: right;\">\n",
              "      <th></th>\n",
              "      <th>timestamp</th>\n",
              "      <th>anonymous_id</th>\n",
              "    </tr>\n",
              "  </thead>\n",
              "  <tbody>\n",
              "    <tr>\n",
              "      <th>0</th>\n",
              "      <td>2020-12-05 10:01:51.305 UTC</td>\n",
              "      <td>00001104-4c72-4f48-bb8c-ace2ded63f8b</td>\n",
              "    </tr>\n",
              "    <tr>\n",
              "      <th>1</th>\n",
              "      <td>2020-12-08 11:07:39.962 UTC</td>\n",
              "      <td>00007575-88d6-4acc-9940-e9ccb8358dca</td>\n",
              "    </tr>\n",
              "    <tr>\n",
              "      <th>2</th>\n",
              "      <td>2020-12-03 13:12:37.952 UTC</td>\n",
              "      <td>00016e45-138b-401e-9eac-78b92d48c6c4</td>\n",
              "    </tr>\n",
              "    <tr>\n",
              "      <th>3</th>\n",
              "      <td>2020-12-02 16:03:37.548 UTC</td>\n",
              "      <td>0001814e-5cf7-4d23-bc95-4630d9152fc1</td>\n",
              "    </tr>\n",
              "    <tr>\n",
              "      <th>4</th>\n",
              "      <td>2020-12-01 08:24:51.787 UTC</td>\n",
              "      <td>00021d91-c65e-4049-9ae1-7d64702c8c12</td>\n",
              "    </tr>\n",
              "  </tbody>\n",
              "</table>\n",
              "</div>"
            ],
            "text/plain": [
              "                     timestamp                          anonymous_id\n",
              "0  2020-12-05 10:01:51.305 UTC  00001104-4c72-4f48-bb8c-ace2ded63f8b\n",
              "1  2020-12-08 11:07:39.962 UTC  00007575-88d6-4acc-9940-e9ccb8358dca\n",
              "2  2020-12-03 13:12:37.952 UTC  00016e45-138b-401e-9eac-78b92d48c6c4\n",
              "3  2020-12-02 16:03:37.548 UTC  0001814e-5cf7-4d23-bc95-4630d9152fc1\n",
              "4  2020-12-01 08:24:51.787 UTC  00021d91-c65e-4049-9ae1-7d64702c8c12"
            ]
          },
          "metadata": {
            "tags": []
          },
          "execution_count": 11
        }
      ]
    },
    {
      "cell_type": "code",
      "metadata": {
        "id": "TGvgyHKO1zrM",
        "outputId": "9c45ee56-45ad-490f-cb50-d59bed6d0989"
      },
      "source": [
        "landing_hits.describe()"
      ],
      "execution_count": null,
      "outputs": [
        {
          "output_type": "execute_result",
          "data": {
            "text/html": [
              "<div>\n",
              "<style scoped>\n",
              "    .dataframe tbody tr th:only-of-type {\n",
              "        vertical-align: middle;\n",
              "    }\n",
              "\n",
              "    .dataframe tbody tr th {\n",
              "        vertical-align: top;\n",
              "    }\n",
              "\n",
              "    .dataframe thead th {\n",
              "        text-align: right;\n",
              "    }\n",
              "</style>\n",
              "<table border=\"1\" class=\"dataframe\">\n",
              "  <thead>\n",
              "    <tr style=\"text-align: right;\">\n",
              "      <th></th>\n",
              "      <th>timestamp</th>\n",
              "      <th>anonymous_id</th>\n",
              "    </tr>\n",
              "  </thead>\n",
              "  <tbody>\n",
              "    <tr>\n",
              "      <th>count</th>\n",
              "      <td>341481</td>\n",
              "      <td>341481</td>\n",
              "    </tr>\n",
              "    <tr>\n",
              "      <th>unique</th>\n",
              "      <td>341263</td>\n",
              "      <td>210922</td>\n",
              "    </tr>\n",
              "    <tr>\n",
              "      <th>top</th>\n",
              "      <td>2020-12-11 04:33:58.64 UTC</td>\n",
              "      <td>6368eb82-d361-4aca-869e-080f167e3b5f</td>\n",
              "    </tr>\n",
              "    <tr>\n",
              "      <th>freq</th>\n",
              "      <td>3</td>\n",
              "      <td>536</td>\n",
              "    </tr>\n",
              "  </tbody>\n",
              "</table>\n",
              "</div>"
            ],
            "text/plain": [
              "                         timestamp                          anonymous_id\n",
              "count                       341481                                341481\n",
              "unique                      341263                                210922\n",
              "top     2020-12-11 04:33:58.64 UTC  6368eb82-d361-4aca-869e-080f167e3b5f\n",
              "freq                             3                                   536"
            ]
          },
          "metadata": {
            "tags": []
          },
          "execution_count": 109
        }
      ]
    },
    {
      "cell_type": "code",
      "metadata": {
        "id": "PW5WebYN1zrM",
        "outputId": "b3910bc8-07e5-4383-e1e8-426162e6a7c2"
      },
      "source": [
        "# проверяем валидность дат и вообще период и всякое такое\n",
        "\n",
        "landing_hits['timestamp'].apply(lambda x: pd.to_datetime(x).date()).value_counts()"
      ],
      "execution_count": null,
      "outputs": [
        {
          "output_type": "execute_result",
          "data": {
            "text/plain": [
              "2020-12-06    23147\n",
              "2020-12-05    23146\n",
              "2020-12-10    22729\n",
              "2020-12-07    22470\n",
              "2020-11-28    22364\n",
              "2020-11-26    22252\n",
              "2020-12-04    22197\n",
              "2020-11-27    21851\n",
              "2020-12-08    21710\n",
              "2020-12-09    21672\n",
              "2020-12-03    21244\n",
              "2020-11-29    19870\n",
              "2020-12-02    19808\n",
              "2020-11-30    18634\n",
              "2020-12-01    18414\n",
              "2020-12-11     3778\n",
              "2020-12-13     3124\n",
              "2020-12-12     2928\n",
              "2020-12-17     2719\n",
              "2020-12-15     2519\n",
              "2020-12-16     2478\n",
              "2020-12-14     2427\n",
              "Name: timestamp, dtype: int64"
            ]
          },
          "metadata": {
            "tags": []
          },
          "execution_count": 110
        }
      ]
    },
    {
      "cell_type": "code",
      "metadata": {
        "id": "bJVLIoBr1zrN",
        "outputId": "e23e26de-db9e-442a-ba3a-3074a9bd0df4"
      },
      "source": [
        "landing_hits[landing_hits['anonymous_id'].isna()]"
      ],
      "execution_count": null,
      "outputs": [
        {
          "output_type": "execute_result",
          "data": {
            "text/html": [
              "<div>\n",
              "<style scoped>\n",
              "    .dataframe tbody tr th:only-of-type {\n",
              "        vertical-align: middle;\n",
              "    }\n",
              "\n",
              "    .dataframe tbody tr th {\n",
              "        vertical-align: top;\n",
              "    }\n",
              "\n",
              "    .dataframe thead th {\n",
              "        text-align: right;\n",
              "    }\n",
              "</style>\n",
              "<table border=\"1\" class=\"dataframe\">\n",
              "  <thead>\n",
              "    <tr style=\"text-align: right;\">\n",
              "      <th></th>\n",
              "      <th>timestamp</th>\n",
              "      <th>anonymous_id</th>\n",
              "    </tr>\n",
              "  </thead>\n",
              "  <tbody>\n",
              "  </tbody>\n",
              "</table>\n",
              "</div>"
            ],
            "text/plain": [
              "Empty DataFrame\n",
              "Columns: [timestamp, anonymous_id]\n",
              "Index: []"
            ]
          },
          "metadata": {
            "tags": []
          },
          "execution_count": 111
        }
      ]
    },
    {
      "cell_type": "code",
      "metadata": {
        "id": "JRxfRBb-1zrO",
        "outputId": "b0dffddf-cdbe-42eb-f757-e5227e0af2fd"
      },
      "source": [
        "landing_hits[landing_hits.duplicated()].sort_values(['anonymous_id', 'timestamp'])"
      ],
      "execution_count": null,
      "outputs": [
        {
          "output_type": "execute_result",
          "data": {
            "text/html": [
              "<div>\n",
              "<style scoped>\n",
              "    .dataframe tbody tr th:only-of-type {\n",
              "        vertical-align: middle;\n",
              "    }\n",
              "\n",
              "    .dataframe tbody tr th {\n",
              "        vertical-align: top;\n",
              "    }\n",
              "\n",
              "    .dataframe thead th {\n",
              "        text-align: right;\n",
              "    }\n",
              "</style>\n",
              "<table border=\"1\" class=\"dataframe\">\n",
              "  <thead>\n",
              "    <tr style=\"text-align: right;\">\n",
              "      <th></th>\n",
              "      <th>timestamp</th>\n",
              "      <th>anonymous_id</th>\n",
              "    </tr>\n",
              "  </thead>\n",
              "  <tbody>\n",
              "    <tr>\n",
              "      <th>3775</th>\n",
              "      <td>2020-11-27 09:36:32.625 UTC</td>\n",
              "      <td>02dc7c7c-e7d6-44d8-afc9-e07552fc496d</td>\n",
              "    </tr>\n",
              "    <tr>\n",
              "      <th>4778</th>\n",
              "      <td>2020-12-09 15:01:58.487 UTC</td>\n",
              "      <td>039e4d88-1f17-490c-9ec5-abd0090a45cd</td>\n",
              "    </tr>\n",
              "    <tr>\n",
              "      <th>5314</th>\n",
              "      <td>2020-12-17 11:52:45.548 UTC</td>\n",
              "      <td>040a5786-ef11-4e66-b54a-6d7dfd266dd3</td>\n",
              "    </tr>\n",
              "    <tr>\n",
              "      <th>5363</th>\n",
              "      <td>2020-11-28 06:17:41.279 UTC</td>\n",
              "      <td>04133948-1b8a-432f-9b0c-a2be8371b25f</td>\n",
              "    </tr>\n",
              "    <tr>\n",
              "      <th>8521</th>\n",
              "      <td>2020-11-28 17:08:17.705 UTC</td>\n",
              "      <td>065e28e3-30e9-411a-8d4f-fe164f73425e</td>\n",
              "    </tr>\n",
              "    <tr>\n",
              "      <th>13309</th>\n",
              "      <td>2020-12-03 13:30:13.321 UTC</td>\n",
              "      <td>09d04153-41f2-426e-a23e-80daef637ee8</td>\n",
              "    </tr>\n",
              "    <tr>\n",
              "      <th>19582</th>\n",
              "      <td>2020-12-07 11:42:47.285 UTC</td>\n",
              "      <td>0ea4e862-ab72-469f-8514-d908e9639a71</td>\n",
              "    </tr>\n",
              "    <tr>\n",
              "      <th>27595</th>\n",
              "      <td>2020-12-09 19:09:40.266 UTC</td>\n",
              "      <td>14ec4317-cfcc-49af-a0fb-2f30d3fa26d8</td>\n",
              "    </tr>\n",
              "    <tr>\n",
              "      <th>28247</th>\n",
              "      <td>2020-12-14 09:55:37.877 UTC</td>\n",
              "      <td>156c0210-da8c-4742-96cd-1bfcc73e2648</td>\n",
              "    </tr>\n",
              "    <tr>\n",
              "      <th>28843</th>\n",
              "      <td>2020-11-30 09:26:04.302 UTC</td>\n",
              "      <td>15e008e5-b43e-4990-8d4c-99263f622f52</td>\n",
              "    </tr>\n",
              "    <tr>\n",
              "      <th>29582</th>\n",
              "      <td>2020-11-26 13:48:41.645 UTC</td>\n",
              "      <td>1662f3ce-330a-40c3-bf35-c76c04dab33a</td>\n",
              "    </tr>\n",
              "    <tr>\n",
              "      <th>30324</th>\n",
              "      <td>2020-11-26 16:55:13.833 UTC</td>\n",
              "      <td>16e8aef6-4dbe-4f7b-b685-9f2c0089501c</td>\n",
              "    </tr>\n",
              "    <tr>\n",
              "      <th>30845</th>\n",
              "      <td>2020-12-09 10:44:05.971 UTC</td>\n",
              "      <td>1752962e-c473-48da-bf24-098582fa08f3</td>\n",
              "    </tr>\n",
              "    <tr>\n",
              "      <th>35840</th>\n",
              "      <td>2020-12-10 20:46:27.395 UTC</td>\n",
              "      <td>1aedb7f2-0b94-44c7-abd8-cb94159751ec</td>\n",
              "    </tr>\n",
              "    <tr>\n",
              "      <th>38664</th>\n",
              "      <td>2020-11-30 17:18:06.799 UTC</td>\n",
              "      <td>1d177a18-b5a3-4cfd-b97a-63934ed14582</td>\n",
              "    </tr>\n",
              "    <tr>\n",
              "      <th>41055</th>\n",
              "      <td>2020-11-27 18:11:55.109 UTC</td>\n",
              "      <td>1ee1da54-5a77-4077-b434-792ff28b9218</td>\n",
              "    </tr>\n",
              "    <tr>\n",
              "      <th>43373</th>\n",
              "      <td>2020-12-06 11:40:49.164 UTC</td>\n",
              "      <td>20ab9ade-037a-4b61-8b09-8fbf3b62b171</td>\n",
              "    </tr>\n",
              "    <tr>\n",
              "      <th>59526</th>\n",
              "      <td>2020-12-05 00:33:50.204 UTC</td>\n",
              "      <td>2cbf04d5-7448-4fcf-bd6a-afcfd78cf8a7</td>\n",
              "    </tr>\n",
              "    <tr>\n",
              "      <th>63264</th>\n",
              "      <td>2020-12-10 09:42:03.797 UTC</td>\n",
              "      <td>2f8f1db1-d4f8-459d-b285-a5145b04206b</td>\n",
              "    </tr>\n",
              "    <tr>\n",
              "      <th>63861</th>\n",
              "      <td>2020-11-30 11:47:58.159 UTC</td>\n",
              "      <td>30019623-24c2-42b9-b6cf-72b6e0768302</td>\n",
              "    </tr>\n",
              "    <tr>\n",
              "      <th>65065</th>\n",
              "      <td>2020-12-08 19:58:42.593 UTC</td>\n",
              "      <td>30ee311d-9fd6-478f-91dc-91395e06b804</td>\n",
              "    </tr>\n",
              "    <tr>\n",
              "      <th>68215</th>\n",
              "      <td>2020-12-06 11:33:37.972 UTC</td>\n",
              "      <td>3358ebf2-be64-4371-b6c4-917b4a9e4edb</td>\n",
              "    </tr>\n",
              "    <tr>\n",
              "      <th>69529</th>\n",
              "      <td>2020-12-02 17:30:11.301 UTC</td>\n",
              "      <td>3468ba10-d3cb-442e-be12-3acdfcc60545</td>\n",
              "    </tr>\n",
              "    <tr>\n",
              "      <th>70382</th>\n",
              "      <td>2020-12-04 13:59:45.408 UTC</td>\n",
              "      <td>35158d88-c98e-4676-a3fa-8fdd9549ae9e</td>\n",
              "    </tr>\n",
              "    <tr>\n",
              "      <th>71082</th>\n",
              "      <td>2020-12-14 06:37:59.944 UTC</td>\n",
              "      <td>3599f21f-f743-41b3-b7a3-a80db5983664</td>\n",
              "    </tr>\n",
              "    <tr>\n",
              "      <th>71671</th>\n",
              "      <td>2020-11-26 19:37:06.418 UTC</td>\n",
              "      <td>360a1571-0c44-4e28-b70a-ee1cd10b8d21</td>\n",
              "    </tr>\n",
              "    <tr>\n",
              "      <th>71927</th>\n",
              "      <td>2020-11-30 10:57:16.529 UTC</td>\n",
              "      <td>36377be9-bf95-4be6-87a2-77a9b738ca70</td>\n",
              "    </tr>\n",
              "    <tr>\n",
              "      <th>73838</th>\n",
              "      <td>2020-12-05 22:02:43.696 UTC</td>\n",
              "      <td>37b46b10-2bdb-471e-90df-1fae4fc873a1</td>\n",
              "    </tr>\n",
              "    <tr>\n",
              "      <th>74207</th>\n",
              "      <td>2020-12-05 14:38:57.718 UTC</td>\n",
              "      <td>37eb920b-0517-40cf-b3b0-4b9995e52be7</td>\n",
              "    </tr>\n",
              "    <tr>\n",
              "      <th>75983</th>\n",
              "      <td>2020-11-27 14:12:27.412 UTC</td>\n",
              "      <td>3952f096-1ab9-423b-a5ba-9e2070cc8260</td>\n",
              "    </tr>\n",
              "    <tr>\n",
              "      <th>...</th>\n",
              "      <td>...</td>\n",
              "      <td>...</td>\n",
              "    </tr>\n",
              "    <tr>\n",
              "      <th>259999</th>\n",
              "      <td>2020-12-12 09:15:10.407 UTC</td>\n",
              "      <td>c28590ac-d294-4dbb-b87f-e931c0429a42</td>\n",
              "    </tr>\n",
              "    <tr>\n",
              "      <th>263361</th>\n",
              "      <td>2020-11-29 10:25:21.826 UTC</td>\n",
              "      <td>c50e9983-5d61-41b8-847c-206e0b15154a</td>\n",
              "    </tr>\n",
              "    <tr>\n",
              "      <th>269509</th>\n",
              "      <td>2020-12-01 04:32:43.195 UTC</td>\n",
              "      <td>c9990c56-449f-4290-8b1c-ea849ec3125b</td>\n",
              "    </tr>\n",
              "    <tr>\n",
              "      <th>270060</th>\n",
              "      <td>2020-12-06 17:34:02.093 UTC</td>\n",
              "      <td>ca0213de-ed8d-4d41-99d3-cdfaca073e8c</td>\n",
              "    </tr>\n",
              "    <tr>\n",
              "      <th>274570</th>\n",
              "      <td>2020-11-30 08:22:34.865 UTC</td>\n",
              "      <td>cd573d57-7b52-4c51-be47-e24d83e9102a</td>\n",
              "    </tr>\n",
              "    <tr>\n",
              "      <th>279589</th>\n",
              "      <td>2020-11-29 12:44:00.887 UTC</td>\n",
              "      <td>d111116b-0149-4df5-b74a-8be48fc3307b</td>\n",
              "    </tr>\n",
              "    <tr>\n",
              "      <th>280046</th>\n",
              "      <td>2020-12-06 19:42:56.513 UTC</td>\n",
              "      <td>d16c6f8b-bbf5-4566-8729-f0cb4c7f6fb2</td>\n",
              "    </tr>\n",
              "    <tr>\n",
              "      <th>283303</th>\n",
              "      <td>2020-12-10 12:30:49.067 UTC</td>\n",
              "      <td>d3d93df7-7920-439a-883d-e9a98784c2d1</td>\n",
              "    </tr>\n",
              "    <tr>\n",
              "      <th>283378</th>\n",
              "      <td>2020-11-29 06:13:22.641 UTC</td>\n",
              "      <td>d3e56f18-c913-43be-a693-30e226d2a2f6</td>\n",
              "    </tr>\n",
              "    <tr>\n",
              "      <th>288334</th>\n",
              "      <td>2020-12-09 15:17:49.26 UTC</td>\n",
              "      <td>d7b3cf69-44f9-4947-9440-a258ca352f3b</td>\n",
              "    </tr>\n",
              "    <tr>\n",
              "      <th>288771</th>\n",
              "      <td>2020-12-06 05:40:18.736 UTC</td>\n",
              "      <td>d80d1ed5-2d9c-427b-9ecb-12251ea79f6b</td>\n",
              "    </tr>\n",
              "    <tr>\n",
              "      <th>289166</th>\n",
              "      <td>2020-12-07 20:45:56.026 UTC</td>\n",
              "      <td>d8623149-61c2-4d24-b56f-c0b7362470d6</td>\n",
              "    </tr>\n",
              "    <tr>\n",
              "      <th>295539</th>\n",
              "      <td>2020-11-26 15:42:25.943 UTC</td>\n",
              "      <td>dd46d88d-dcf9-4cee-8b1d-572d02eab5f4</td>\n",
              "    </tr>\n",
              "    <tr>\n",
              "      <th>296243</th>\n",
              "      <td>2020-11-28 07:07:34.191 UTC</td>\n",
              "      <td>ddd207d7-a9b3-4caf-bd21-94a6bdb4be3e</td>\n",
              "    </tr>\n",
              "    <tr>\n",
              "      <th>299184</th>\n",
              "      <td>2020-11-28 14:35:02.765 UTC</td>\n",
              "      <td>e00b231f-f6dc-4547-88cd-1381809ce790</td>\n",
              "    </tr>\n",
              "    <tr>\n",
              "      <th>303422</th>\n",
              "      <td>2020-11-30 07:27:17.727 UTC</td>\n",
              "      <td>e3338496-3d5c-4176-bcbc-8884ef789203</td>\n",
              "    </tr>\n",
              "    <tr>\n",
              "      <th>306135</th>\n",
              "      <td>2020-12-04 16:46:57.966 UTC</td>\n",
              "      <td>e53d3358-f831-441c-9684-47913b748928</td>\n",
              "    </tr>\n",
              "    <tr>\n",
              "      <th>307871</th>\n",
              "      <td>2020-12-17 06:37:14.534 UTC</td>\n",
              "      <td>e67583ad-5cd9-4d6c-ad91-939a36071a5a</td>\n",
              "    </tr>\n",
              "    <tr>\n",
              "      <th>309932</th>\n",
              "      <td>2020-12-04 09:19:06.946 UTC</td>\n",
              "      <td>e80dea76-d5cd-4ebe-8ca8-999d4647aa0d</td>\n",
              "    </tr>\n",
              "    <tr>\n",
              "      <th>310054</th>\n",
              "      <td>2020-12-05 15:56:45.953 UTC</td>\n",
              "      <td>e822b1d7-5fd1-4815-90c5-706515cca368</td>\n",
              "    </tr>\n",
              "    <tr>\n",
              "      <th>312335</th>\n",
              "      <td>2020-11-27 14:23:34.545 UTC</td>\n",
              "      <td>e9cfb961-d9c2-4507-b175-e7bd53bcc3e1</td>\n",
              "    </tr>\n",
              "    <tr>\n",
              "      <th>314280</th>\n",
              "      <td>2020-11-28 11:18:47.109 UTC</td>\n",
              "      <td>eb4b48a3-f46c-4d18-a6b5-d5962fe88e96</td>\n",
              "    </tr>\n",
              "    <tr>\n",
              "      <th>317934</th>\n",
              "      <td>2020-12-09 11:34:23.465 UTC</td>\n",
              "      <td>ee10316a-143d-44e0-a991-706a4da98744</td>\n",
              "    </tr>\n",
              "    <tr>\n",
              "      <th>325808</th>\n",
              "      <td>2020-12-15 15:31:35.372 UTC</td>\n",
              "      <td>f400d5b5-3a7f-4511-8e0f-585f13ff23d9</td>\n",
              "    </tr>\n",
              "    <tr>\n",
              "      <th>325936</th>\n",
              "      <td>2020-12-01 15:10:26.967 UTC</td>\n",
              "      <td>f419cb7f-5b23-481d-a615-d7c89226e5da</td>\n",
              "    </tr>\n",
              "    <tr>\n",
              "      <th>326202</th>\n",
              "      <td>2020-11-28 12:41:30.511 UTC</td>\n",
              "      <td>f449a533-00cb-433c-b6d3-a8012168dc5d</td>\n",
              "    </tr>\n",
              "    <tr>\n",
              "      <th>326405</th>\n",
              "      <td>2020-11-26 12:45:22.367 UTC</td>\n",
              "      <td>f46c5efb-ed3e-4d10-805f-e14b9d9dbb08</td>\n",
              "    </tr>\n",
              "    <tr>\n",
              "      <th>329282</th>\n",
              "      <td>2020-12-05 14:24:41.352 UTC</td>\n",
              "      <td>f6a47650-59f4-4c18-9013-6bd4dc37a9f5</td>\n",
              "    </tr>\n",
              "    <tr>\n",
              "      <th>330429</th>\n",
              "      <td>2020-11-27 17:19:27.791 UTC</td>\n",
              "      <td>f773edf4-4076-4966-afcb-8d1f24e483f6</td>\n",
              "    </tr>\n",
              "    <tr>\n",
              "      <th>335976</th>\n",
              "      <td>2020-12-11 15:04:40.178 UTC</td>\n",
              "      <td>fbbd0c2e-cdde-4082-999e-9ff587fcddd4</td>\n",
              "    </tr>\n",
              "  </tbody>\n",
              "</table>\n",
              "<p>116 rows × 2 columns</p>\n",
              "</div>"
            ],
            "text/plain": [
              "                          timestamp                          anonymous_id\n",
              "3775    2020-11-27 09:36:32.625 UTC  02dc7c7c-e7d6-44d8-afc9-e07552fc496d\n",
              "4778    2020-12-09 15:01:58.487 UTC  039e4d88-1f17-490c-9ec5-abd0090a45cd\n",
              "5314    2020-12-17 11:52:45.548 UTC  040a5786-ef11-4e66-b54a-6d7dfd266dd3\n",
              "5363    2020-11-28 06:17:41.279 UTC  04133948-1b8a-432f-9b0c-a2be8371b25f\n",
              "8521    2020-11-28 17:08:17.705 UTC  065e28e3-30e9-411a-8d4f-fe164f73425e\n",
              "13309   2020-12-03 13:30:13.321 UTC  09d04153-41f2-426e-a23e-80daef637ee8\n",
              "19582   2020-12-07 11:42:47.285 UTC  0ea4e862-ab72-469f-8514-d908e9639a71\n",
              "27595   2020-12-09 19:09:40.266 UTC  14ec4317-cfcc-49af-a0fb-2f30d3fa26d8\n",
              "28247   2020-12-14 09:55:37.877 UTC  156c0210-da8c-4742-96cd-1bfcc73e2648\n",
              "28843   2020-11-30 09:26:04.302 UTC  15e008e5-b43e-4990-8d4c-99263f622f52\n",
              "29582   2020-11-26 13:48:41.645 UTC  1662f3ce-330a-40c3-bf35-c76c04dab33a\n",
              "30324   2020-11-26 16:55:13.833 UTC  16e8aef6-4dbe-4f7b-b685-9f2c0089501c\n",
              "30845   2020-12-09 10:44:05.971 UTC  1752962e-c473-48da-bf24-098582fa08f3\n",
              "35840   2020-12-10 20:46:27.395 UTC  1aedb7f2-0b94-44c7-abd8-cb94159751ec\n",
              "38664   2020-11-30 17:18:06.799 UTC  1d177a18-b5a3-4cfd-b97a-63934ed14582\n",
              "41055   2020-11-27 18:11:55.109 UTC  1ee1da54-5a77-4077-b434-792ff28b9218\n",
              "43373   2020-12-06 11:40:49.164 UTC  20ab9ade-037a-4b61-8b09-8fbf3b62b171\n",
              "59526   2020-12-05 00:33:50.204 UTC  2cbf04d5-7448-4fcf-bd6a-afcfd78cf8a7\n",
              "63264   2020-12-10 09:42:03.797 UTC  2f8f1db1-d4f8-459d-b285-a5145b04206b\n",
              "63861   2020-11-30 11:47:58.159 UTC  30019623-24c2-42b9-b6cf-72b6e0768302\n",
              "65065   2020-12-08 19:58:42.593 UTC  30ee311d-9fd6-478f-91dc-91395e06b804\n",
              "68215   2020-12-06 11:33:37.972 UTC  3358ebf2-be64-4371-b6c4-917b4a9e4edb\n",
              "69529   2020-12-02 17:30:11.301 UTC  3468ba10-d3cb-442e-be12-3acdfcc60545\n",
              "70382   2020-12-04 13:59:45.408 UTC  35158d88-c98e-4676-a3fa-8fdd9549ae9e\n",
              "71082   2020-12-14 06:37:59.944 UTC  3599f21f-f743-41b3-b7a3-a80db5983664\n",
              "71671   2020-11-26 19:37:06.418 UTC  360a1571-0c44-4e28-b70a-ee1cd10b8d21\n",
              "71927   2020-11-30 10:57:16.529 UTC  36377be9-bf95-4be6-87a2-77a9b738ca70\n",
              "73838   2020-12-05 22:02:43.696 UTC  37b46b10-2bdb-471e-90df-1fae4fc873a1\n",
              "74207   2020-12-05 14:38:57.718 UTC  37eb920b-0517-40cf-b3b0-4b9995e52be7\n",
              "75983   2020-11-27 14:12:27.412 UTC  3952f096-1ab9-423b-a5ba-9e2070cc8260\n",
              "...                             ...                                   ...\n",
              "259999  2020-12-12 09:15:10.407 UTC  c28590ac-d294-4dbb-b87f-e931c0429a42\n",
              "263361  2020-11-29 10:25:21.826 UTC  c50e9983-5d61-41b8-847c-206e0b15154a\n",
              "269509  2020-12-01 04:32:43.195 UTC  c9990c56-449f-4290-8b1c-ea849ec3125b\n",
              "270060  2020-12-06 17:34:02.093 UTC  ca0213de-ed8d-4d41-99d3-cdfaca073e8c\n",
              "274570  2020-11-30 08:22:34.865 UTC  cd573d57-7b52-4c51-be47-e24d83e9102a\n",
              "279589  2020-11-29 12:44:00.887 UTC  d111116b-0149-4df5-b74a-8be48fc3307b\n",
              "280046  2020-12-06 19:42:56.513 UTC  d16c6f8b-bbf5-4566-8729-f0cb4c7f6fb2\n",
              "283303  2020-12-10 12:30:49.067 UTC  d3d93df7-7920-439a-883d-e9a98784c2d1\n",
              "283378  2020-11-29 06:13:22.641 UTC  d3e56f18-c913-43be-a693-30e226d2a2f6\n",
              "288334   2020-12-09 15:17:49.26 UTC  d7b3cf69-44f9-4947-9440-a258ca352f3b\n",
              "288771  2020-12-06 05:40:18.736 UTC  d80d1ed5-2d9c-427b-9ecb-12251ea79f6b\n",
              "289166  2020-12-07 20:45:56.026 UTC  d8623149-61c2-4d24-b56f-c0b7362470d6\n",
              "295539  2020-11-26 15:42:25.943 UTC  dd46d88d-dcf9-4cee-8b1d-572d02eab5f4\n",
              "296243  2020-11-28 07:07:34.191 UTC  ddd207d7-a9b3-4caf-bd21-94a6bdb4be3e\n",
              "299184  2020-11-28 14:35:02.765 UTC  e00b231f-f6dc-4547-88cd-1381809ce790\n",
              "303422  2020-11-30 07:27:17.727 UTC  e3338496-3d5c-4176-bcbc-8884ef789203\n",
              "306135  2020-12-04 16:46:57.966 UTC  e53d3358-f831-441c-9684-47913b748928\n",
              "307871  2020-12-17 06:37:14.534 UTC  e67583ad-5cd9-4d6c-ad91-939a36071a5a\n",
              "309932  2020-12-04 09:19:06.946 UTC  e80dea76-d5cd-4ebe-8ca8-999d4647aa0d\n",
              "310054  2020-12-05 15:56:45.953 UTC  e822b1d7-5fd1-4815-90c5-706515cca368\n",
              "312335  2020-11-27 14:23:34.545 UTC  e9cfb961-d9c2-4507-b175-e7bd53bcc3e1\n",
              "314280  2020-11-28 11:18:47.109 UTC  eb4b48a3-f46c-4d18-a6b5-d5962fe88e96\n",
              "317934  2020-12-09 11:34:23.465 UTC  ee10316a-143d-44e0-a991-706a4da98744\n",
              "325808  2020-12-15 15:31:35.372 UTC  f400d5b5-3a7f-4511-8e0f-585f13ff23d9\n",
              "325936  2020-12-01 15:10:26.967 UTC  f419cb7f-5b23-481d-a615-d7c89226e5da\n",
              "326202  2020-11-28 12:41:30.511 UTC  f449a533-00cb-433c-b6d3-a8012168dc5d\n",
              "326405  2020-11-26 12:45:22.367 UTC  f46c5efb-ed3e-4d10-805f-e14b9d9dbb08\n",
              "329282  2020-12-05 14:24:41.352 UTC  f6a47650-59f4-4c18-9013-6bd4dc37a9f5\n",
              "330429  2020-11-27 17:19:27.791 UTC  f773edf4-4076-4966-afcb-8d1f24e483f6\n",
              "335976  2020-12-11 15:04:40.178 UTC  fbbd0c2e-cdde-4082-999e-9ff587fcddd4\n",
              "\n",
              "[116 rows x 2 columns]"
            ]
          },
          "metadata": {
            "tags": []
          },
          "execution_count": 112
        }
      ]
    },
    {
      "cell_type": "code",
      "metadata": {
        "id": "S0nXhsF-1zrO"
      },
      "source": [
        "landing_hits.drop_duplicates(inplace=True)"
      ],
      "execution_count": null,
      "outputs": []
    },
    {
      "cell_type": "code",
      "metadata": {
        "id": "M0Yq4smN1zrP",
        "outputId": "378be316-d786-4fa6-a591-bbe332be8019"
      },
      "source": [
        "landing_hits['anonymous_id'].value_counts()[:20]"
      ],
      "execution_count": null,
      "outputs": [
        {
          "output_type": "execute_result",
          "data": {
            "text/plain": [
              "6368eb82-d361-4aca-869e-080f167e3b5f    532\n",
              "06eaec3d-511a-4794-92ea-a19efaaf7f19    278\n",
              "8851d1da-4b18-4028-baa6-47e8a135fe87    170\n",
              "3e3c5ef8-fb2d-4c9b-8de2-224c78ce4149    142\n",
              "8da49d4a-48a7-4e27-8a16-5d122c9602c4    126\n",
              "bcaa113d-c128-443f-9ede-2736847e1969    123\n",
              "374fdafc-eaed-4265-bee1-ea62cd62d3bd     91\n",
              "5d2114f3-01ec-4313-8629-3cb44b4a2f9d     85\n",
              "43565189-ddcb-4d0e-981c-91eb105ee2aa     83\n",
              "0b1bdb94-a6a5-4dfd-80fb-00b345127663     83\n",
              "a4b4c249-49d3-4be4-8034-983761f0099b     82\n",
              "bae12c1e-e2da-4858-b390-a81b1f8519eb     74\n",
              "8074a2a4-a179-4b31-9040-82d6ab65dd44     68\n",
              "fceb9ca3-ec9f-467e-8baf-aca6f4e80e92     65\n",
              "2ccd4262-0a79-44e0-b5b8-58d48d4850ff     65\n",
              "992ba89b-747e-4ad2-8e22-e8c8ea6d6391     64\n",
              "287e99ad-777a-46ee-89ca-89145711fb4e     62\n",
              "d5110d67-5002-452c-9bb1-77577715781d     60\n",
              "05614a9d-ad55-42f4-ab2d-4f575384e42f     57\n",
              "a49baedd-a769-4b58-bcc2-504f44f6e187     56\n",
              "Name: anonymous_id, dtype: int64"
            ]
          },
          "metadata": {
            "tags": []
          },
          "execution_count": 82
        }
      ]
    },
    {
      "cell_type": "code",
      "metadata": {
        "id": "XGu-NyXx1zrQ"
      },
      "source": [
        "def check_event_pipeline(event_df):\n",
        "    print(event_df.name)\n",
        "    print(tabulate(event_df.head()))\n",
        "    print('---')\n",
        "    print(tabulate(event_df.describe()))\n",
        "    print('---')\n",
        "    print(event_df['timestamp'].apply(lambda x: pd.to_datetime(x).date()).value_counts())\n",
        "    print('---')\n",
        "    print(event_df[event_df['anonymous_id'].isna()])\n",
        "    print('---')\n",
        "    print(len(event_df[event_df.duplicated()]))\n",
        "    print('---')\n",
        "    print(event_df['anonymous_id'].value_counts())\n",
        "    print('--- NEXT DF ---')"
      ],
      "execution_count": null,
      "outputs": []
    },
    {
      "cell_type": "code",
      "metadata": {
        "id": "z9kz-pfr1zrQ"
      },
      "source": [
        "add_to_cart = pd.read_csv('Downloads/career_factory/Add To Cart Clicked.csv')\n",
        "address_change = pd.read_csv('Downloads/career_factory/Address Change Initiated.csv')\n",
        "#address_not_in = pd.read_csv('Downloads/career_factory/Address Not In Delivery Zone.csv')\n",
        "main_hits = pd.read_csv('Downloads/career_factory/Main Page Viewed.csv')\n",
        "#order_completed = pd.read_csv('Downloads/career_factory/Order Completed.csv')\n",
        "product_add = pd.read_csv('Downloads/career_factory/Product Added.csv')\n",
        "#selection_start = pd.read_csv('Downloads/career_factory/Shop Celection Started.csv')\n",
        "#shop_selected = pd.read_csv('Downloads/career_factory/Shop Selected.csv')"
      ],
      "execution_count": null,
      "outputs": []
    },
    {
      "cell_type": "code",
      "metadata": {
        "id": "9WoATvb01zrR"
      },
      "source": [
        "add_to_cart.name = 'add_to_cart'\n",
        "address_change.name = 'address_change'\n",
        "address_not_in.name = 'address_not_in'\n",
        "main_hits.name = 'main_hits'\n",
        "order_completed.name = 'order_completed'\n",
        "product_add.name = 'product_add'\n",
        "selection_start.name = 'selection_start'\n",
        "shop_selected.name = 'shop_selected'"
      ],
      "execution_count": null,
      "outputs": []
    },
    {
      "cell_type": "code",
      "metadata": {
        "id": "UxmP3M751zrS",
        "outputId": "747f007f-58e9-43b8-8900-fd9a50bffd6e"
      },
      "source": [
        "for i in (add_to_cart, address_change, address_not_in, main_hits, order_completed, product_add, selection_start, shop_selected):\n",
        "    check_event_pipeline(i)"
      ],
      "execution_count": null,
      "outputs": [
        {
          "output_type": "stream",
          "text": [
            "add_to_cart\n",
            "-  ---------------------------  ------------------------------------\n",
            "0  2020-11-30 03:08:30.345 UTC  04880e58-9530-46c2-bf03-b9bc21e72e99\n",
            "1  2020-11-30 11:13:52.439 UTC  74526202-97a7-49d7-b312-91d93583c530\n",
            "2  2020-11-30 09:11:38.708 UTC  d246c872-7a1e-4a02-9440-0908ba605f79\n",
            "3  2020-11-30 09:42:22.833 UTC  71102afd-bcf1-4585-aaba-819b68554c79\n",
            "4  2020-11-30 03:38:11.446 UTC  df194e6d-d88a-4b18-bf44-209992dd9f7e\n",
            "-  ---------------------------  ------------------------------------\n",
            "---\n",
            "------  ---------------------------  ------------------------------------\n",
            "count   1223417                      1223417\n",
            "unique  1221588                      70820\n",
            "top     2020-12-08 16:50:18.141 UTC  3c223064-4496-450d-b502-04727851bc7c\n",
            "freq    4                            2124\n",
            "------  ---------------------------  ------------------------------------\n",
            "---\n",
            "2020-12-10    81115\n",
            "2020-12-04    79151\n",
            "2020-11-27    74405\n",
            "2020-12-05    73258\n",
            "2020-11-26    72734\n",
            "2020-11-28    68217\n",
            "2020-12-03    67124\n",
            "2020-12-09    64737\n",
            "2020-12-06    63593\n",
            "2020-12-08    61699\n",
            "2020-12-07    57366\n",
            "2020-11-29    55544\n",
            "2020-12-02    53940\n",
            "2020-12-01    52783\n",
            "2020-11-30    50583\n",
            "2020-12-11    48623\n",
            "2020-12-17    39968\n",
            "2020-12-12    36743\n",
            "2020-12-16    31259\n",
            "2020-12-13    30980\n",
            "2020-12-15    29862\n",
            "2020-12-14    29733\n",
            "Name: timestamp, dtype: int64\n",
            "---\n",
            "Empty DataFrame\n",
            "Columns: [timestamp, anonymous_id]\n",
            "Index: []\n",
            "---\n",
            "159\n",
            "---\n",
            "3c223064-4496-450d-b502-04727851bc7c    2124\n",
            "3e5732f3-b0fb-4c1f-8bed-dd7a68994585    1041\n",
            "ae52ad7a-075a-4e5d-8cd3-d09d72822a8d     851\n",
            "2bec5d04-635a-4c36-a4ee-2e1dfa7f04d1     788\n",
            "cc5ae342-601e-40e0-ae49-d60aaada414f     766\n",
            "5bb11b9e-af47-4c2b-9873-e01272d3f9e4     693\n",
            "b5d24bba-88d9-4a7b-8018-a1c163c84517     686\n",
            "49bf3b2d-8c91-43f9-a5df-5b0643290dba     676\n",
            "673b376e-5803-4014-9b0b-41ee6dcaaac6     619\n",
            "64e66fd4-8139-4a6a-98a3-ce163451fe61     609\n",
            "8c430696-a30a-4490-91c5-738be8dbbdfc     580\n",
            "da1bde54-0892-43db-b272-fe596ca7da7b     578\n",
            "c608fd5b-7eee-4cb5-9a25-e87c71e6f0c2     576\n",
            "1418bbb1-135c-49f6-8e60-16b03b8818b5     564\n",
            "0fc30613-da8a-4e70-9ee9-ce255abc6488     564\n",
            "a916455c-bb9a-4e30-b9d7-07dc64783b12     560\n",
            "a8f7857d-1c5b-47a0-9bc5-1c374e2386a5     540\n",
            "e81458d4-7aeb-4bc1-9746-dea0c93376fd     530\n",
            "e66b5954-bb2d-498c-8ac3-815758872704     529\n",
            "72cc603a-05f8-4a18-bce6-53555d2488ad     502\n",
            "47210ece-644b-4dea-b1d8-e5b89646b3ec     483\n",
            "7a4ebd60-b558-4e4e-b46b-335ea8460e40     478\n",
            "b9a4c6fa-3f12-47be-8f20-6f0d6106b582     476\n",
            "b09a9318-9241-4444-891f-01129dd87995     475\n",
            "3c7c4616-3379-4627-8974-2ca9d8cc8903     461\n",
            "1dbe08c3-8950-4833-872c-cc305b539c3d     460\n",
            "9d6c5b19-ec32-41ef-bebe-03eae78c39f2     452\n",
            "82c56a1d-ca99-4870-9859-646c0f127dfd     450\n",
            "eb948d3a-d0b8-40b0-ad30-4d9dceb023c7     446\n",
            "18bf0a89-9742-4140-bd3f-105e13f81d47     442\n",
            "                                        ... \n",
            "82bc1358-c358-4199-aed0-79c8f6f82560       1\n",
            "3a4a8c51-20df-46d3-bf3a-24a61f88f33a       1\n",
            "c5c7387b-e162-463e-ad24-442018fbcf77       1\n",
            "3b2a6295-7832-406e-887c-ddd08fc609b6       1\n",
            "9d2df328-7925-4997-8745-7d62bff5155f       1\n",
            "f82b02d4-516f-468c-be6a-431c0d5d9abd       1\n",
            "2412fcff-9566-4d98-a047-83a05739b37d       1\n",
            "dc2a55c1-3d21-4864-b895-c7c9684ff214       1\n",
            "b42a8884-d297-4d0c-a5e9-5bb7409103a4       1\n",
            "6711a917-758f-429e-a9f7-ed33d1cd4e86       1\n",
            "085185a0-fd64-4502-8de3-4a86f9b38b29       1\n",
            "6c3005ff-e2de-470d-92b0-e66900e04c80       1\n",
            "120db910-ddc0-416e-b130-e8fe4d945a3a       1\n",
            "8295baad-7da5-40f7-9ef0-a0d41a98981b       1\n",
            "d1eb8a5a-5baa-45e8-8d1f-e21dfc65058f       1\n",
            "11b6f0ea-9fdf-4e65-9285-6d323f0cc5d6       1\n",
            "290fa72d-0cdc-4950-9970-6d8f0bab7dbd       1\n",
            "446a7263-cfbc-45b4-85e9-aeb62cb0376b       1\n",
            "14a6735f-de11-41cd-9deb-c617dd7594bf       1\n",
            "b239b6d9-1e6a-4379-90e6-67862d00f529       1\n",
            "c3802768-64ec-4cec-bb28-fd82d395d417       1\n",
            "86022766-98a2-4d73-9031-092524d86e1e       1\n",
            "af9411f7-485d-4f02-ac34-766a60c2157b       1\n",
            "7d4619bb-0124-4c7d-8e30-74e1853397d7       1\n",
            "80064974-14ad-432e-933e-b6b210e548d0       1\n",
            "a40c77e3-6204-4b15-85ac-2fe0a5ba34ce       1\n",
            "9871f6ea-925b-44f8-a7d9-4b9b7d3009f8       1\n",
            "f960ba46-805a-4244-890d-43a759a94a5f       1\n",
            "7d92d87f-ce70-4d28-857b-98ec13d73da3       1\n",
            "dfdd37d9-91e3-49eb-b4f3-2d8035c22e59       1\n",
            "Name: anonymous_id, Length: 70820, dtype: int64\n",
            "--- NEXT DF ---\n",
            "address_change\n",
            "-  ---------------------------  ------------------------------------  -----------\n",
            "0  2020-12-17 16:52:48.751 UTC  01005c8a-9fae-463e-89de-c96ba54b33d5  add_alcohol\n",
            "1  2020-12-07 19:47:02.284 UTC  033b1952-ff45-48ff-b26f-6cdb78d549a2  add_alcohol\n",
            "2  2020-12-16 06:54:25.958 UTC  03fc2ae5-318f-4292-b1c8-68e59923cd4f  add_alcohol\n",
            "3  2020-12-10 18:27:01.658 UTC  045a73a6-49cf-430a-81ba-80d0062d8bea  add_alcohol\n",
            "4  2020-12-09 08:47:39.586 UTC  06bf46cd-3aa9-4526-8ad8-889b7dabbdfd  add_alcohol\n",
            "-  ---------------------------  ------------------------------------  -----------\n",
            "---\n",
            "------  ---------------------------  ------------------------------------  -----------\n",
            "count   103434                       103434                                103434\n",
            "unique  103365                       63185                                 5\n",
            "top     2020-11-29 12:49:16.818 UTC  e2e64d66-3efa-46c7-bdc7-693120e26d64  add_product\n",
            "freq    3                            220                                   57265\n",
            "------  ---------------------------  ------------------------------------  -----------\n",
            "---\n",
            "2020-12-08    7796\n",
            "2020-12-04    6867\n",
            "2020-12-10    6808\n",
            "2020-12-09    6703\n",
            "2020-12-06    6697\n",
            "2020-12-07    6651\n",
            "2020-12-05    6631\n",
            "2020-12-03    6474\n",
            "2020-11-27    6017\n",
            "2020-11-28    5964\n",
            "2020-11-26    5963\n",
            "2020-12-02    5717\n",
            "2020-12-01    5407\n",
            "2020-11-29    5306\n",
            "2020-11-30    5279\n",
            "2020-12-11    1806\n",
            "2020-12-17    1373\n",
            "2020-12-14    1275\n",
            "2020-12-16    1235\n",
            "2020-12-12    1182\n",
            "2020-12-15    1166\n",
            "2020-12-13    1117\n",
            "Name: timestamp, dtype: int64\n",
            "---\n",
            "Empty DataFrame\n",
            "Columns: [timestamp, anonymous_id, source]\n",
            "Index: []\n",
            "---\n",
            "64\n",
            "---\n",
            "e2e64d66-3efa-46c7-bdc7-693120e26d64    220\n",
            "5b44fa73-26d6-4d21-91a2-d7a4e38800ba    191\n",
            "1a75d637-63d6-4de2-bb4e-75624e36b6d7    145\n",
            "33a896c9-2a44-4041-b373-d40b1accd055    141\n",
            "a57acfa0-eb39-4d42-bff6-3f3c9501065a    126\n",
            "f031767c-3bc5-4cfc-80a7-84fbde0fa5d2    119\n",
            "bae12c1e-e2da-4858-b390-a81b1f8519eb    118\n",
            "039afd82-e4df-4489-8393-0a1ce8bfb4d0    106\n",
            "c8a98b72-0677-4006-97a6-dcc952103a1b    102\n",
            "ce6ea82f-2495-4c61-baa2-28ba4491af18     98\n",
            "510ce9c7-86fa-496c-bb70-13665f706ca3     91\n",
            "f328d503-fd25-427d-af1a-ce1f07cd91ee     90\n",
            "a0bd17db-911c-4665-96f8-62b87a114394     89\n",
            "8abc034f-fb36-4a44-8a8c-aada901acea3     87\n",
            "b4f70e45-993c-4b00-92e2-85203755abaf     87\n",
            "f7867bc3-5b2c-4c33-8e98-628b41fc198f     83\n",
            "326b8e5c-429c-49b1-960c-16dbcb24508f     79\n",
            "86862391-8638-4b74-b919-c1a249eed16d     74\n",
            "21864417-20b0-44d7-897f-49bdb3961144     73\n",
            "197f3d08-4e27-41cc-bf59-0ae32e18ff6d     72\n",
            "6c12017f-81ab-4c25-940e-b935c65774aa     71\n",
            "b26c8c41-5ef3-484f-b2d1-7f9817ec7836     69\n",
            "ac835d90-9c7f-4746-8f77-19a57a36fbf5     68\n",
            "5d2114f3-01ec-4313-8629-3cb44b4a2f9d     66\n",
            "743e4e4f-2e14-46ba-96b7-e6535678d326     66\n",
            "977232ad-8214-4707-89b6-250951759e33     66\n",
            "d9b9682f-6fa5-4fa6-b9f5-eb953faf90be     63\n",
            "d10a52d2-c089-466f-befe-180c067c0d57     61\n",
            "eac1b88a-ba82-4e38-8300-914c21e7107a     60\n",
            "65441b6a-77aa-4571-80a7-eaccd0527932     60\n",
            "                                       ... \n",
            "488c4ac2-9ed8-47c4-a65c-6d323ac5db58      1\n",
            "80d921ce-2161-4e2e-9393-421292a58b2c      1\n",
            "4e048cdb-e2f6-4dac-ab75-65f7ecc7025d      1\n",
            "b0c53052-d93a-48d2-9485-70ce6676dbc1      1\n",
            "c9f017c5-55a0-4242-90cf-2d66828dcf00      1\n",
            "591fd365-6095-4b6f-b52f-c7f9862c39cf      1\n",
            "22a27e8d-77ae-4f6f-a8c4-138ed74ab551      1\n",
            "83177721-f8fb-4a8a-8b84-443f4b6b7f5e      1\n",
            "28dc5b0a-f361-40ac-a419-904a0cd657de      1\n",
            "419faa5c-08a8-4689-b57d-b90690e497e0      1\n",
            "33582e04-1828-4b46-b15b-39b18cc03440      1\n",
            "aac54b84-833f-4568-8f6d-fa29a15027a2      1\n",
            "8103a707-2dad-4890-bdf8-934267204f70      1\n",
            "3ebbd0fc-8940-419f-bf83-9bd1ffd3b8b7      1\n",
            "8cc9c888-11c2-40df-89ea-99636bd2a4af      1\n",
            "d816aabf-1457-40ad-ae51-35596463a3ce      1\n",
            "997d843b-7afc-4a02-87f1-f4b3f0860a05      1\n",
            "74f87382-69e0-40b3-8654-239a0eec444e      1\n",
            "f4004b15-fad1-41d2-a160-92f79dde3b7d      1\n",
            "58265f70-d710-48e5-a1fe-c4208ff12c58      1\n",
            "60f28ca9-6b09-48ee-aca5-d9da685f8aab      1\n",
            "04fbed84-9167-49dc-bc25-d427d8eb1a73      1\n",
            "98245fc9-7fa4-44d3-817c-a42acee9e3dd      1\n",
            "a7d9dfb0-0e1d-452d-9767-021f88746f06      1\n",
            "c28e9985-d69f-47f2-a867-9ea2a9d212df      1\n",
            "f18fe392-23c6-4bf0-95f9-04829099cced      1\n",
            "16d9a88e-f4f0-4f47-84e8-51eb41c06bf9      1\n",
            "26f71862-2b44-4726-a184-3740635a3bd3      1\n",
            "50e09dbf-23de-46ba-af3b-3b794cdfb164      1\n",
            "b2696223-22de-477f-bce7-3be443e810b7      1\n",
            "Name: anonymous_id, Length: 63185, dtype: int64\n",
            "--- NEXT DF ---\n",
            "address_not_in\n",
            "-  ---------------------------  ------------------------------------\n",
            "0  2020-11-29 18:23:55.997 UTC  000dece9-6e24-4ea0-861e-3d71a055fc37\n",
            "1  2020-12-05 04:15:49.615 UTC  000fe246-60f5-4b91-b26b-6dd10760d565\n",
            "2  2020-12-05 12:13:05.248 UTC  0037b3e8-2a0e-4e86-a0a1-b3dd1d06501c\n",
            "3  2020-12-05 12:04:23.065 UTC  0037b3e8-2a0e-4e86-a0a1-b3dd1d06501c\n",
            "4  2020-12-05 12:06:42.038 UTC  0037b3e8-2a0e-4e86-a0a1-b3dd1d06501c\n",
            "-  ---------------------------  ------------------------------------\n",
            "---\n",
            "------  ---------------------------  ------------------------------------\n",
            "count   6167                         6167\n",
            "unique  6167                         4152\n",
            "top     2020-12-02 03:26:26.623 UTC  a57acfa0-eb39-4d42-bff6-3f3c9501065a\n",
            "freq    1                            59\n",
            "------  ---------------------------  ------------------------------------\n",
            "---\n",
            "2020-12-06    498\n",
            "2020-12-07    495\n",
            "2020-12-09    483\n",
            "2020-12-08    457\n",
            "2020-12-04    438\n",
            "2020-12-05    425\n",
            "2020-12-10    399\n",
            "2020-12-03    382\n",
            "2020-11-28    378\n",
            "2020-12-02    348\n",
            "2020-11-29    317\n",
            "2020-11-26    311\n",
            "2020-11-30    309\n",
            "2020-11-27    305\n",
            "2020-12-01    297\n",
            "2020-12-17     57\n",
            "2020-12-11     56\n",
            "2020-12-15     46\n",
            "2020-12-14     45\n",
            "2020-12-16     44\n",
            "2020-12-12     39\n",
            "2020-12-13     38\n",
            "Name: timestamp, dtype: int64\n",
            "---\n",
            "Empty DataFrame\n",
            "Columns: [timestamp, anonymous_id]\n",
            "Index: []\n",
            "---\n",
            "0\n",
            "---\n",
            "a57acfa0-eb39-4d42-bff6-3f3c9501065a    59\n",
            "cbc99a37-4571-4b6f-bf11-d49ff03b1dbc    25\n",
            "d9b9682f-6fa5-4fa6-b9f5-eb953faf90be    18\n",
            "5b44fa73-26d6-4d21-91a2-d7a4e38800ba    18\n",
            "f7867bc3-5b2c-4c33-8e98-628b41fc198f    16\n",
            "46a3ac77-33fc-432f-a18c-0f84ec670998    16\n",
            "1a75d637-63d6-4de2-bb4e-75624e36b6d7    15\n",
            "db978c82-d894-48ef-a2d2-4b0338281daf    15\n",
            "f031767c-3bc5-4cfc-80a7-84fbde0fa5d2    15\n",
            "326b8e5c-429c-49b1-960c-16dbcb24508f    14\n",
            "6c12017f-81ab-4c25-940e-b935c65774aa    14\n",
            "b26c8c41-5ef3-484f-b2d1-7f9817ec7836    13\n",
            "c4e1c037-0021-4440-b6aa-5ecfa325e976    11\n",
            "f328d503-fd25-427d-af1a-ce1f07cd91ee    11\n",
            "2fe252ef-bb06-47b7-aa76-d47399f225b7    10\n",
            "ac835d90-9c7f-4746-8f77-19a57a36fbf5     9\n",
            "c8a98b72-0677-4006-97a6-dcc952103a1b     9\n",
            "529659f0-1039-4cfe-aa73-63200afa3a0f     9\n",
            "eac1b88a-ba82-4e38-8300-914c21e7107a     9\n",
            "f3d51581-f28c-4bf3-b76d-f3e25d548abc     8\n",
            "9bff0a47-ac35-4ece-86ea-28727f5b3cba     8\n",
            "2f18063a-4080-4cda-ba57-2b197c89ad19     8\n",
            "f19dd4ff-ebe8-4665-862f-554b45e384c3     8\n",
            "75ff70b0-a2c5-4751-b076-516373f700ff     8\n",
            "e872802b-4a23-48df-958f-54d6bbfcbe10     8\n",
            "c7d2f8ed-34de-4ac6-8a7b-5636cdad16e8     8\n",
            "eb754e96-2cfb-4d19-8432-103600a4f4a5     8\n",
            "a85da09f-5927-4a28-bbbc-d0267a2d00f7     7\n",
            "8abc034f-fb36-4a44-8a8c-aada901acea3     7\n",
            "59df35ef-59fe-476e-a379-be3d7ed2b4c8     7\n",
            "                                        ..\n",
            "7e635bcb-a5d7-4e79-b7e8-7e552feed8b4     1\n",
            "d1e78ad5-645d-4a4e-a5ff-9c61a2f76316     1\n",
            "5fc32c88-4767-4ca7-94ed-a1057dbbaac5     1\n",
            "51772385-6802-4607-81c7-296690f31434     1\n",
            "0e14cb79-1164-4f63-8037-d53e839a9d6d     1\n",
            "b6991cb7-f489-4fbb-a2d8-50bc47aa7da8     1\n",
            "4725f40f-a31f-486b-a635-ee927afe19a8     1\n",
            "77e79b41-acb2-4790-897b-026ae9464665     1\n",
            "ec3cddd0-706c-44d4-8ab6-efc02c0edb98     1\n",
            "cca648d4-092d-4d6b-be5f-bd8c9c85dfd5     1\n",
            "ab17cc85-9e40-464b-af95-43d923e16317     1\n",
            "aa52bbae-276d-42be-aea4-710b5107f3e6     1\n",
            "bc626d85-008d-45fb-b174-99b577f7a96b     1\n",
            "42b3d61e-9639-4e09-a10a-2423854d0348     1\n",
            "296db580-8bf5-4b5e-ab6b-33b9e349f488     1\n",
            "1c3079d2-fc39-478f-b4a7-2ab22c82e704     1\n",
            "344cc993-662b-4501-b5e9-8aadaf903b79     1\n",
            "d38cef09-b340-4010-8899-6c025df92773     1\n",
            "4b124742-4819-40c6-b348-3a80d76ee5b2     1\n",
            "454f36ab-1a43-4bff-9683-81657da18bfc     1\n",
            "99b6c69f-a20b-4038-b0ac-a4d66e2a9387     1\n",
            "3de7ad93-f115-4785-b287-2a1cf1e063e0     1\n",
            "5284f4d4-5350-4372-9a8a-38723d498231     1\n",
            "cd7b788c-94cf-40a4-ab8f-85115b3176e7     1\n",
            "7c9d811f-483b-4100-82be-6a48539b1819     1\n",
            "0e1b7601-4893-4ffc-b695-4024d18d9f5a     1\n",
            "9b5ed4db-d477-4457-beae-18fd445cd8e2     1\n",
            "2704b586-de94-4bb1-a7ef-1f59eced4abe     1\n",
            "74ca7135-22ce-4339-a659-36f8ed592297     1\n",
            "1b8e4128-75b4-4936-baf7-4c1abcad5eaf     1\n",
            "Name: anonymous_id, Length: 4152, dtype: int64\n",
            "--- NEXT DF ---\n",
            "main_hits\n",
            "-  ---------------------------  ------------------------------------  -\n",
            "0  2020-11-29 08:54:57.64 UTC   00000782-154a-4159-ab12-6c34b658e375  1\n",
            "1  2020-11-29 08:22:54.554 UTC  00000782-154a-4159-ab12-6c34b658e375  1\n",
            "2  2020-11-30 10:56:52.877 UTC  00000782-154a-4159-ab12-6c34b658e375  1\n",
            "3  2020-11-29 08:22:24.663 UTC  00000782-154a-4159-ab12-6c34b658e375  1\n",
            "4  2020-11-29 09:07:11.648 UTC  00000782-154a-4159-ab12-6c34b658e375  1\n",
            "-  ---------------------------  ------------------------------------  -\n",
            "---\n",
            "-----  -----------\n",
            "count  613509\n",
            "mean       51.9817\n",
            "std        75.6944\n",
            "min         1\n",
            "25%         1\n",
            "50%        29\n",
            "75%        57\n",
            "max       345\n",
            "-----  -----------\n",
            "---\n",
            "2020-12-10    41013\n",
            "2020-12-04    38839\n",
            "2020-12-08    37599\n",
            "2020-12-09    37379\n",
            "2020-12-05    37224\n",
            "2020-12-06    36341\n",
            "2020-12-07    35699\n",
            "2020-12-03    35637\n",
            "2020-11-27    34538\n",
            "2020-11-26    33588\n",
            "2020-11-28    32024\n",
            "2020-12-02    31450\n",
            "2020-11-29    29644\n",
            "2020-12-01    29082\n",
            "2020-11-30    28829\n",
            "2020-12-11    17119\n",
            "2020-12-17    14232\n",
            "2020-12-12    13642\n",
            "2020-12-16    12985\n",
            "2020-12-15    12498\n",
            "2020-12-14    12118\n",
            "2020-12-13    12029\n",
            "Name: timestamp, dtype: int64\n",
            "---\n",
            "Empty DataFrame\n",
            "Columns: [timestamp, anonymous_id, retailer_id]\n",
            "Index: []\n",
            "---\n",
            "187\n",
            "---\n",
            "06eaec3d-511a-4794-92ea-a19efaaf7f19    478\n",
            "0d14ce81-19d5-451c-9c7f-1886ed3f71a6    463\n",
            "5d2114f3-01ec-4313-8629-3cb44b4a2f9d    437\n",
            "f8c6d1f8-230a-465b-b14b-db1c21ad49ae    425\n",
            "ddeb13ba-f506-4c5e-ae9c-a3b2786cb56f    404\n",
            "250bf84c-d24d-4c92-9b18-7e2beb765e64    365\n",
            "bcaa113d-c128-443f-9ede-2736847e1969    359\n",
            "b8500f09-8f7f-444c-9d20-70fad0ebde9b    321\n",
            "e2e64d66-3efa-46c7-bdc7-693120e26d64    318\n",
            "0b9c9d47-e233-473f-bf30-365f94538a11    288\n",
            "992ba89b-747e-4ad2-8e22-e8c8ea6d6391    267\n",
            "f031767c-3bc5-4cfc-80a7-84fbde0fa5d2    264\n",
            "8b132b33-2153-4248-aae6-1878add831c2    261\n",
            "3454646f-deab-4394-98d1-29de8b8d576d    250\n",
            "9f9affaa-92ba-44b2-a29a-b0b7549a7d1c    245\n",
            "1dbe08c3-8950-4833-872c-cc305b539c3d    241\n",
            "d6a49687-4932-4c45-9e69-c450618a7fa2    236\n",
            "33a896c9-2a44-4041-b373-d40b1accd055    227\n",
            "5b44fa73-26d6-4d21-91a2-d7a4e38800ba    220\n",
            "eea8080a-4bf5-4496-9488-af9575847933    209\n",
            "977232ad-8214-4707-89b6-250951759e33    204\n",
            "3b2b18db-2ac7-45cf-9244-19336464b1eb    203\n",
            "637e0f11-e9b7-42e4-ac2b-94b220bd6643    201\n",
            "bae12c1e-e2da-4858-b390-a81b1f8519eb    198\n",
            "4bc94a77-49eb-4d82-8901-aad26f5d8085    194\n",
            "a4b4c249-49d3-4be4-8034-983761f0099b    192\n",
            "cc5ae342-601e-40e0-ae49-d60aaada414f    190\n",
            "6d9393dd-d247-4f0d-9b89-cff18523cd7b    189\n",
            "039afd82-e4df-4489-8393-0a1ce8bfb4d0    188\n",
            "f1d57251-1373-458c-8b64-a8113414ff65    188\n",
            "                                       ... \n",
            "015ed059-d70b-4491-834f-e771a81b489d      1\n",
            "1b45dc02-6099-43be-b9b0-9f68f368fd61      1\n",
            "12e99066-0fe8-4713-af3e-d96c7b1be116      1\n",
            "425d926f-f33c-4471-9061-23baf04068b1      1\n",
            "867d4373-96e2-44a6-bc96-1df30ec6a96a      1\n",
            "b13e685a-9ff0-4acd-ad96-5d8a541d4ec3      1\n",
            "1ba6bf93-0244-4647-9504-aed28ed69262      1\n",
            "5103d7f9-d3fe-4405-a9e8-364abcce5c33      1\n",
            "16b57dd9-807a-4192-b994-5c085fdbfc50      1\n",
            "f625d14a-d5bd-41db-8236-c92529e8ff01      1\n",
            "2ebb6b25-5476-49e0-9416-afe791bb26b6      1\n",
            "b0a407ac-c0fc-4210-8498-7a4f3a64a825      1\n",
            "78e916f3-78df-4afb-baec-745868ce477c      1\n",
            "2baf8ca6-7897-449e-bd41-4a00a9800d20      1\n",
            "24c73671-42b9-45dc-b6b8-c9ac7e05dce4      1\n",
            "2b147ae4-948e-4ee9-ba71-d13b6bae298c      1\n",
            "fe333595-a800-4ca4-8907-e5c005f7bced      1\n",
            "3a5650d7-973b-451e-b9dd-06c068dffd6f      1\n",
            "9d91c63a-18b1-4afe-ad70-c6afab1f1fe0      1\n",
            "a42afad2-b725-4838-802c-14c90b754a0f      1\n",
            "dc13617c-086c-4988-8046-6a6971562d81      1\n",
            "6501192f-3a21-4a6d-8c56-2a4ec2595df3      1\n",
            "fe2d8d08-8634-4aa1-9248-03da3ae57a85      1\n",
            "0d900c8e-caf3-46f1-83e5-c8e95d335c56      1\n",
            "21dd8854-8c73-479e-bc03-649e752b5734      1\n",
            "3f420df2-e8c3-4666-903a-542b0570ad71      1\n",
            "ff194162-977c-4198-9c52-1363c38313a1      1\n",
            "ef7ad7b2-29f9-42e9-82f3-282b3192c752      1\n",
            "f3d53974-b639-448c-b148-7fb5256e847a      1\n",
            "37b06aa0-5c64-4bc4-bbf3-52d5862444ae      1\n",
            "Name: anonymous_id, Length: 161205, dtype: int64\n",
            "--- NEXT DF ---\n",
            "order_completed\n",
            "-  ---------------------------  ------------------------------------  -------\n",
            "0  2020-12-10 09:23:09.195 UTC  3343c486-8d88-44a6-87e5-5c1631e3db3d  3746.23\n",
            "1  2020-12-10 13:11:07.166 UTC  c4491ab9-e59e-444e-bd92-c462830e4b5b  1619.24\n",
            "2  2020-12-10 15:42:29.153 UTC  82f2bac5-8c73-4ed2-8022-27fa0dbd8fc2  2439.61\n",
            "3  2020-12-10 17:04:52.163 UTC  fffb6076-550e-445e-8227-68219671113a  1288.58\n",
            "4  2020-12-10 21:25:58.898 UTC  00e258f1-7908-467e-a66e-d42284ea3f2d  6875.96\n",
            "-  ---------------------------  ------------------------------------  -------\n",
            "---\n",
            "-----  ------------\n",
            "count   16650\n",
            "mean     6285.17\n",
            "std     10822\n",
            "min         3.38245\n",
            "25%      2272.5\n",
            "50%      4112.04\n",
            "75%      7388.3\n",
            "max    530038\n",
            "-----  ------------\n",
            "---\n",
            "2020-12-10    1060\n",
            "2020-12-05    1046\n",
            "2020-12-04    1016\n",
            "2020-11-27     972\n",
            "2020-12-09     917\n",
            "2020-11-26     917\n",
            "2020-11-28     891\n",
            "2020-12-03     868\n",
            "2020-12-06     863\n",
            "2020-12-08     811\n",
            "2020-12-07     771\n",
            "2020-12-11     768\n",
            "2020-11-29     727\n",
            "2020-11-30     711\n",
            "2020-12-02     688\n",
            "2020-12-01     679\n",
            "2020-12-17     591\n",
            "2020-12-12     500\n",
            "2020-12-14     497\n",
            "2020-12-15     482\n",
            "2020-12-13     466\n",
            "2020-12-16     409\n",
            "Name: timestamp, dtype: int64\n",
            "---\n",
            "Empty DataFrame\n",
            "Columns: [timestamp, anonymous_id, order_sum]\n",
            "Index: []\n",
            "---\n",
            "0\n",
            "---\n",
            "ce6ea82f-2495-4c61-baa2-28ba4491af18    83\n",
            "281be4e4-73f3-4ccd-9138-38130c0d8122    44\n",
            "43565189-ddcb-4d0e-981c-91eb105ee2aa    42\n",
            "0afc765f-3f23-4c21-858a-5f345e9adffb    30\n",
            "1dea1cc9-72c0-4bee-bdb6-c59faacd72ba    30\n",
            "6373c43e-f887-40e9-a5a2-38fbec3add74    29\n",
            "8074a2a4-a179-4b31-9040-82d6ab65dd44    27\n",
            "5bb785fd-e0e7-447a-b0e1-a06328b31cbe    26\n",
            "efd9bc05-a403-4a0f-997d-47d97101663e    25\n",
            "86acb847-531c-49d3-ae4f-f51438f42a8c    25\n",
            "98201a66-3667-48f1-96e7-42ce28d9b959    22\n",
            "a2a39c8f-d088-4a4b-bd12-77777fd18c9d    20\n",
            "6e2e2781-2f93-43b9-b8b0-722330301c76    20\n",
            "b310b3e0-4371-4d34-8b08-b8c4fe7c9278    19\n",
            "9e6eb129-ce2c-4098-a460-e434924381c3    19\n",
            "b71095e1-1cf8-41ca-a8d4-2787a7baa752    19\n",
            "0be9f5b0-0624-4922-a6ca-8334c15323b0    18\n",
            "e71e3098-62d4-4d05-afe6-299db227ce15    18\n",
            "efa1985a-0f9a-4bcf-a8f3-68ae8eedb79d    18\n",
            "b4d51061-27f1-40f4-8116-1adcf36dabda    18\n",
            "a03ed53b-3b31-44a9-82b3-100052216ea4    18\n",
            "879edd64-e75c-4384-8caf-660608ac947c    18\n",
            "32e9d68d-5328-4cb2-a6dc-81a1ba8c0f8c    17\n",
            "5c39fc70-5dc8-457e-89a5-167ca23f7210    17\n",
            "8ff70e66-bc5b-4472-ac03-f0d63268d52e    17\n",
            "e3bf3335-57c5-431e-a2a7-df57944aea9c    16\n",
            "a916455c-bb9a-4e30-b9d7-07dc64783b12    16\n",
            "5d88b5b9-028a-4f62-86e8-4903d1d00852    16\n",
            "d70fdb81-de65-4699-943e-4c405db453c7    16\n",
            "fbc67c85-fdee-4eec-97e1-358c3f2b81ab    16\n",
            "                                        ..\n",
            "61e670e2-2d4e-4818-9c3e-933bb44b677c     1\n",
            "c0436959-9f17-4895-bb7a-294bc36ca5c6     1\n",
            "fd1fc21c-c1df-4e46-938b-50f0d9a0a748     1\n",
            "2df8b4ab-5fdf-4fbe-9f29-a8a2a157d125     1\n",
            "ac9af1fc-f4f7-4bb3-90ad-3e04aa0a6d5f     1\n",
            "765dd355-3913-418e-abfe-3235709ba8cc     1\n",
            "de4d7eea-0bab-4409-8d62-249ea7991371     1\n",
            "453516f3-36c4-4697-951a-e3b19cae5092     1\n",
            "cbf244f0-c614-4f84-a6c8-38c075d03b2c     1\n",
            "7418ee95-8471-49f0-b9ee-29dc0d23e4a5     1\n",
            "4e9c2c3f-9f5c-4276-a11a-375a87c78734     1\n",
            "37ca37a6-9568-4cc4-85bf-be378d64562e     1\n",
            "64995385-9a38-4709-8134-af9d7c748cb9     1\n",
            "34b4a38b-1b28-4ee2-94ab-bc65b9c4e918     1\n",
            "7e3a737d-66f6-47b4-aff8-e0f29a2ea048     1\n",
            "f2a2fbbc-66cc-469d-8e3b-09d603b259a4     1\n",
            "606234d2-56a5-4ea2-b79c-8cf44081d6be     1\n",
            "2b559f6f-e730-40f7-aba1-dc2967d1f3ff     1\n",
            "5a3301be-d56f-4c56-b002-944e2f2be3f8     1\n",
            "fffb6076-550e-445e-8227-68219671113a     1\n",
            "4e66e638-a04f-4433-80df-f7c25b8a98c1     1\n",
            "e1986f0f-7335-4512-851a-3c90110ddd16     1\n",
            "7dfd9eac-a82e-4563-a385-ba5fb42c80cf     1\n",
            "987990b3-199a-40b7-be7b-d975a38f5ff4     1\n",
            "742b3bc2-ef97-4ffc-b82a-c58a9b8a2c0f     1\n",
            "6af13ef0-0f3c-4127-b965-4b0f452cc9e1     1\n",
            "9ee2f8ff-c78e-400f-8620-70a86015af86     1\n",
            "cd8d92ea-aeff-4ab4-b674-3845832dd76e     1\n",
            "a516833d-36a0-44bd-a7bf-aba9006dfde4     1\n",
            "cd042e8b-831f-4e7a-8348-dc2f2c3ce392     1\n",
            "Name: anonymous_id, Length: 8778, dtype: int64\n",
            "--- NEXT DF ---\n",
            "product_add\n",
            "-  ---------------------------  ------------------------------------\n",
            "0  2020-12-09 20:51:32.429 UTC  e2d50ef1-0667-4da4-88ef-ecbdd7c6a73a\n",
            "1  2020-12-09 19:39:10.216 UTC  bb5ca977-97f4-4ec8-8a71-fe206108917b\n",
            "2  2020-12-09 21:53:08.999 UTC  8e965f2b-7da0-4efb-84f5-f205956e8c30\n",
            "3  2020-12-09 19:46:22.307 UTC  bb5ca977-97f4-4ec8-8a71-fe206108917b\n",
            "4  2020-12-09 22:16:13.379 UTC  8e965f2b-7da0-4efb-84f5-f205956e8c30\n",
            "-  ---------------------------  ------------------------------------\n",
            "---\n",
            "------  ---------------------------  ------------------------------------\n",
            "count   1150060                      1150060\n",
            "unique  1148607                      44123\n",
            "top     2020-12-08 11:43:24.023 UTC  3e5732f3-b0fb-4c1f-8bed-dd7a68994585\n",
            "freq    4                            1031\n",
            "------  ---------------------------  ------------------------------------\n",
            "---\n",
            "2020-12-10    75547\n",
            "2020-12-04    74339\n",
            "2020-11-27    69575\n",
            "2020-12-05    68726\n",
            "2020-11-26    67776\n",
            "2020-11-28    64243\n",
            "2020-12-03    62558\n",
            "2020-12-09    60024\n",
            "2020-12-06    59601\n",
            "2020-12-08    56521\n",
            "2020-12-07    53204\n",
            "2020-11-29    52221\n",
            "2020-12-02    49898\n",
            "2020-12-01    49034\n",
            "2020-11-30    47215\n",
            "2020-12-11    46868\n",
            "2020-12-17    38710\n",
            "2020-12-12    35761\n",
            "2020-12-16    30261\n",
            "2020-12-13    30222\n",
            "2020-12-15    29039\n",
            "2020-12-14    28717\n",
            "Name: timestamp, dtype: int64\n",
            "---\n",
            "Empty DataFrame\n",
            "Columns: [timestamp, anonymous_id]\n",
            "Index: []\n",
            "---\n",
            "0\n",
            "---\n",
            "3e5732f3-b0fb-4c1f-8bed-dd7a68994585    1031\n",
            "ae52ad7a-075a-4e5d-8cd3-d09d72822a8d     953\n",
            "2bec5d04-635a-4c36-a4ee-2e1dfa7f04d1     779\n",
            "cc5ae342-601e-40e0-ae49-d60aaada414f     709\n",
            "49bf3b2d-8c91-43f9-a5df-5b0643290dba     670\n",
            "0fc30613-da8a-4e70-9ee9-ce255abc6488     652\n",
            "b5d24bba-88d9-4a7b-8018-a1c163c84517     632\n",
            "5bb11b9e-af47-4c2b-9873-e01272d3f9e4     620\n",
            "3c223064-4496-450d-b502-04727851bc7c     615\n",
            "da1bde54-0892-43db-b272-fe596ca7da7b     612\n",
            "8c430696-a30a-4490-91c5-738be8dbbdfc     597\n",
            "64e66fd4-8139-4a6a-98a3-ce163451fe61     596\n",
            "c608fd5b-7eee-4cb5-9a25-e87c71e6f0c2     569\n",
            "1418bbb1-135c-49f6-8e60-16b03b8818b5     558\n",
            "a916455c-bb9a-4e30-b9d7-07dc64783b12     554\n",
            "a8f7857d-1c5b-47a0-9bc5-1c374e2386a5     511\n",
            "e81458d4-7aeb-4bc1-9746-dea0c93376fd     498\n",
            "673b376e-5803-4014-9b0b-41ee6dcaaac6     453\n",
            "3c7c4616-3379-4627-8974-2ca9d8cc8903     452\n",
            "72cc603a-05f8-4a18-bce6-53555d2488ad     451\n",
            "1dbe08c3-8950-4833-872c-cc305b539c3d     451\n",
            "82c56a1d-ca99-4870-9859-646c0f127dfd     444\n",
            "b9a4c6fa-3f12-47be-8f20-6f0d6106b582     442\n",
            "b09a9318-9241-4444-891f-01129dd87995     439\n",
            "47210ece-644b-4dea-b1d8-e5b89646b3ec     435\n",
            "9d6c5b19-ec32-41ef-bebe-03eae78c39f2     432\n",
            "18bf0a89-9742-4140-bd3f-105e13f81d47     429\n",
            "3454646f-deab-4394-98d1-29de8b8d576d     424\n",
            "7a4ebd60-b558-4e4e-b46b-335ea8460e40     416\n",
            "a24217a5-f5fb-4f34-ab75-ba32e8102f65     413\n",
            "                                        ... \n",
            "ca26fbd4-0517-4f9b-b537-29b375f19dc8       1\n",
            "9237b06f-3046-4e35-88f9-f01138a8c419       1\n",
            "55be59bd-9ad8-4104-a9f7-167f545f6c30       1\n",
            "2b2dfff2-321a-4d6c-a5cb-82b77531faf1       1\n",
            "847a6248-6755-4173-b2e4-c8e19080e461       1\n",
            "2da56ab5-ade2-4ca7-919d-fd2233a3a3fd       1\n",
            "e4d7db49-5c22-47d6-8ab3-08ccd8b48b67       1\n",
            "e4c40ac6-61a2-467b-add8-acddb255f12b       1\n",
            "db86b992-3135-4fc2-b60f-2e6feda15d1f       1\n",
            "13435ac5-afaf-409a-9d57-9dc74ac1b25e       1\n",
            "fec16628-0861-49b5-b7cf-1c13f76ed253       1\n",
            "acf90a20-13fe-45a7-bb16-e4948d78ac3e       1\n",
            "54c86407-b6fd-4f3b-b26c-65f1d344eb48       1\n",
            "a19f7209-c603-47ad-a21c-a053bc44c751       1\n",
            "9f4e6ab5-1590-415a-938c-1354062ee0a3       1\n",
            "9e7c41e5-7ffb-493b-be6b-eb8eb8eb564c       1\n",
            "f84b1c0b-fb1c-4692-89bf-f5bf227da44f       1\n",
            "78f53b99-74dc-4558-b163-e5acb65b37c8       1\n",
            "4e15e301-67ff-4963-9969-0c7a77e8b30b       1\n",
            "d65482f5-6da6-4531-8881-2a0899dd10a7       1\n",
            "f7fcb366-4506-4ab1-86a0-7f0fcac2409c       1\n",
            "70cdab47-dc7a-4a20-a390-91a2e3d9c285       1\n",
            "26d67041-2431-46e3-9a59-baf1ac4c58a6       1\n",
            "e9ba6478-3e51-43aa-acf2-034034c196e5       1\n",
            "893fd144-0763-4a86-84fc-bbd0473bd2d1       1\n",
            "34247540-962f-4b39-8139-d3d7e83d1501       1\n",
            "4cf29708-e68b-4d33-8d63-5206df2dd9e3       1\n",
            "1c3b0c94-c86c-4653-acce-4800415f7b82       1\n",
            "ca5c712e-8e48-41ca-a10f-69326bf824db       1\n",
            "00560f9e-a9b8-4778-8d8d-4e2fced1bd58       1\n",
            "Name: anonymous_id, Length: 44123, dtype: int64\n",
            "--- NEXT DF ---\n",
            "selection_start\n",
            "-  ---------------------------  ------------------------------------  ------\n",
            "0  2020-12-01 09:49:12.615 UTC  1da378e1-ad44-48d6-8002-f39c59b3e21e  header\n",
            "1  2020-12-01 03:17:26.084 UTC  a182785b-5da1-4445-92a6-c6ddafcc65df  header\n",
            "2  2020-12-01 03:16:11.65 UTC   a182785b-5da1-4445-92a6-c6ddafcc65df  header\n",
            "3  2020-12-01 03:15:10.845 UTC  a182785b-5da1-4445-92a6-c6ddafcc65df  header\n",
            "4  2020-12-01 03:16:54.069 UTC  a182785b-5da1-4445-92a6-c6ddafcc65df  header\n",
            "-  ---------------------------  ------------------------------------  ------\n",
            "---\n",
            "------  ---------------------------  ------------------------------------  ------\n",
            "count   57407                        57407                                 57407\n",
            "unique  57401                        29857                                 3\n",
            "top     2020-12-10 07:36:14.247 UTC  f1d57251-1373-458c-8b64-a8113414ff65  header\n",
            "freq    2                            162                                   36553\n",
            "------  ---------------------------  ------------------------------------  ------\n",
            "---\n",
            "2020-12-06    4446\n",
            "2020-12-05    4339\n",
            "2020-12-08    3733\n",
            "2020-12-04    3728\n",
            "2020-12-09    3633\n",
            "2020-12-10    3607\n",
            "2020-12-07    3527\n",
            "2020-12-03    3391\n",
            "2020-11-28    3196\n",
            "2020-11-29    3194\n",
            "2020-11-26    3089\n",
            "2020-12-02    2991\n",
            "2020-11-27    2870\n",
            "2020-12-01    2794\n",
            "2020-11-30    2728\n",
            "2020-12-11    1083\n",
            "2020-12-12     945\n",
            "2020-12-13     919\n",
            "2020-12-17     864\n",
            "2020-12-15     802\n",
            "2020-12-16     770\n",
            "2020-12-14     758\n",
            "Name: timestamp, dtype: int64\n",
            "---\n",
            "Empty DataFrame\n",
            "Columns: [timestamp, anonymous_id, source]\n",
            "Index: []\n",
            "---\n",
            "2\n",
            "---\n",
            "f1d57251-1373-458c-8b64-a8113414ff65    162\n",
            "f8c6d1f8-230a-465b-b14b-db1c21ad49ae    148\n",
            "efd08a39-a95a-4d42-9629-0f13ca5a5deb    109\n",
            "d28b7e02-c8c5-46c5-8471-1f4e398ae657    101\n",
            "b9accf82-167d-4b05-9223-f2a7ab0dea57     79\n",
            "26536a4c-281e-490d-b730-b3b3ee2bd947     69\n",
            "efa1985a-0f9a-4bcf-a8f3-68ae8eedb79d     69\n",
            "b21f8528-d5fd-45fe-bffb-b3e3fdf822fc     65\n",
            "e81458d4-7aeb-4bc1-9746-dea0c93376fd     62\n",
            "b310b3e0-4371-4d34-8b08-b8c4fe7c9278     62\n",
            "0188e7c6-4f37-4253-8ee3-4f05cd65a7f5     59\n",
            "6e799d85-2ca1-4b78-b6bd-0165c6910e4c     56\n",
            "afbfa703-ef4c-4e79-91e4-5507f5d045e6     51\n",
            "edd8149b-8ee5-4da5-9d21-35f74568b222     50\n",
            "e35c887b-8d85-4ee3-8fb2-2901c6e5330e     49\n",
            "b6f0f295-0344-4b8a-a3b3-cbcff84fd89e     47\n",
            "12b30b92-6d24-4edb-9c92-6e46eb899488     47\n",
            "61ef16b2-6ded-4d8d-bdb6-c31295139323     45\n",
            "eea8080a-4bf5-4496-9488-af9575847933     45\n",
            "b135e73d-dbd3-4d3c-acde-b16e29aa7d60     44\n",
            "b4f70e45-993c-4b00-92e2-85203755abaf     44\n",
            "4326d3fc-6505-49cc-8c60-8719e62f56cb     44\n",
            "bc423de2-76ee-4490-9b6c-84db88b5bf16     44\n",
            "cf9fd819-4df9-4bb7-8b4d-3764bde09541     42\n",
            "1ad7429d-2717-4494-a55e-14769ad3109d     42\n",
            "130de808-0f6e-4cc9-975a-77e6364d9616     40\n",
            "dc197753-abf4-4efd-9daa-7cab2d69223c     39\n",
            "81441918-efc7-445b-8964-f38b4bffd881     38\n",
            "7a67648b-571a-4817-9de9-cce782725631     38\n",
            "b5d24bba-88d9-4a7b-8018-a1c163c84517     37\n",
            "                                       ... \n",
            "d21a9a2d-a3f2-4f00-b31a-ce8f7ab61ae7      1\n",
            "2e903263-c8dd-4e8b-8109-33a084103dbd      1\n",
            "66c0488a-169e-4ed0-a110-5c96d6b09d7b      1\n",
            "bbad5636-4a60-423b-a0d5-429e2ce4ba35      1\n",
            "fdae7132-cbee-47f6-8d2b-6559d2a623df      1\n",
            "820244cf-1a90-43be-881a-82ef3cbc0d2b      1\n",
            "283600a8-919b-42a7-b370-da774021930c      1\n",
            "59b3d801-e8ce-4f62-94ed-7393a2430f47      1\n",
            "af9b3448-0622-4e6f-bcfa-fbb98314e47d      1\n",
            "d79bb5a6-5a5e-4b28-b0d0-aa9eb8a5ca5b      1\n",
            "4bc17228-92d8-45e8-b247-4735d322b4ff      1\n",
            "15f0be72-f698-493a-b6ae-d6335fe5a557      1\n",
            "6d9ca20e-f2bc-421f-8a2f-990b460104db      1\n",
            "f9379435-8b73-47dc-ad6b-e6d06d9e0df9      1\n",
            "1aa3f304-f61a-4c5a-b6f7-a542d065dfff      1\n",
            "a5af5e3f-eaf9-43ad-abe0-b7bfc862dfcb      1\n",
            "0ca67b0b-1ae2-4eb5-be80-aa5cfc16149a      1\n",
            "157b3f5d-866d-497b-9d32-53c1bb439091      1\n",
            "7ffca406-24f2-43c9-91d3-3e19465a0fc5      1\n",
            "cdc80034-8858-4788-80f4-821cb00a2b16      1\n",
            "4a9be9cb-8459-4235-beb9-f9b4ba3b6934      1\n",
            "110b91f2-ca95-483d-8373-fd6bb15e44dd      1\n",
            "82162636-6d00-4891-9e0d-011ecc539aac      1\n",
            "9e69a1e6-cf87-4ab5-8408-c23036956a20      1\n",
            "cd699563-96d1-4ed8-bf1a-ce943035e38b      1\n",
            "ba1ad096-025a-408f-b703-89acf3f40fe7      1\n",
            "b3a5e3f7-9b32-4d32-9e08-ba0ad2d74577      1\n",
            "bb088f14-43d1-418d-9d49-5c57d551beb3      1\n",
            "a628ebbf-51b9-4236-956b-a978256b3740      1\n",
            "ee923c6a-2863-4ca6-bbed-871697fc95a0      1\n",
            "Name: anonymous_id, Length: 29857, dtype: int64\n",
            "--- NEXT DF ---\n",
            "shop_selected\n",
            "-  ---------------------------  ------------------------------------  -------------\n",
            "0  2020-11-30 17:33:43.161 UTC  bc5ea2f8-fd4c-4f85-a0cb-f777bf87b82c  address_modal\n",
            "1  2020-11-30 16:38:32.893 UTC  2462f92f-e1f5-49cb-8174-ea938d210fd3  header\n",
            "2  2020-11-30 17:25:06.712 UTC  290c7999-8392-41f8-ab31-e208fe65bd82  header\n",
            "3  2020-11-30 04:55:43.421 UTC  15975d1c-3b06-46a5-b2f3-a393cc0be2ee  header\n",
            "4  2020-11-30 04:55:43.43 UTC   15975d1c-3b06-46a5-b2f3-a393cc0be2ee  header\n",
            "-  ---------------------------  ------------------------------------  -------------\n",
            "---\n",
            "------  ---------------------------  ------------------------------------  ------\n",
            "count   211728                       211728                                211728\n",
            "unique  210903                       51751                                 3\n",
            "top     2020-11-29 17:31:19.997 UTC  0d14ce81-19d5-451c-9c7f-1886ed3f71a6  header\n",
            "freq    6                            461                                   190608\n",
            "------  ---------------------------  ------------------------------------  ------\n",
            "---\n",
            "2020-12-10    13842\n",
            "2020-12-04    13137\n",
            "2020-12-09    12651\n",
            "2020-12-08    12642\n",
            "2020-12-05    12303\n",
            "2020-12-03    12265\n",
            "2020-12-07    12157\n",
            "2020-12-06    11982\n",
            "2020-11-26    11289\n",
            "2020-11-27    10842\n",
            "2020-12-01    10568\n",
            "2020-12-02    10492\n",
            "2020-11-29    10261\n",
            "2020-11-28    10210\n",
            "2020-11-30     9840\n",
            "2020-12-11     6689\n",
            "2020-12-16     5460\n",
            "2020-12-12     5408\n",
            "2020-12-17     5393\n",
            "2020-12-15     4886\n",
            "2020-12-14     4777\n",
            "2020-12-13     4634\n",
            "Name: timestamp, dtype: int64\n",
            "---\n",
            "Empty DataFrame\n",
            "Columns: [timestamp, anonymous_id, source]\n",
            "Index: []\n",
            "---\n",
            "771\n",
            "---\n",
            "0d14ce81-19d5-451c-9c7f-1886ed3f71a6    461\n",
            "b8500f09-8f7f-444c-9d20-70fad0ebde9b    260\n",
            "e7f20991-e260-4346-bd35-6d998dae93fa    212\n",
            "1dbe08c3-8950-4833-872c-cc305b539c3d    201\n",
            "637e0f11-e9b7-42e4-ac2b-94b220bd6643    193\n",
            "ac4e8a60-7352-4dce-9141-ef1d2e08c754    170\n",
            "f1d57251-1373-458c-8b64-a8113414ff65    167\n",
            "3c7c4616-3379-4627-8974-2ca9d8cc8903    163\n",
            "dc9e0a4d-15e6-40d9-a44a-a2a767c1d580    161\n",
            "ec3ab98e-48af-495e-be3e-fe9e48f550a4    160\n",
            "cc5ae342-601e-40e0-ae49-d60aaada414f    155\n",
            "940d7eda-52ba-4473-ae9c-27577e04c3ee    154\n",
            "7bd004b6-f86d-4b6b-ac5c-ce358959c414    153\n",
            "be3de54e-0941-45e2-8983-e66f1efa41d7    146\n",
            "f8c6d1f8-230a-465b-b14b-db1c21ad49ae    143\n",
            "5b44fa73-26d6-4d21-91a2-d7a4e38800ba    142\n",
            "8b132b33-2153-4248-aae6-1878add831c2    141\n",
            "6e2e2781-2f93-43b9-b8b0-722330301c76    138\n",
            "efa1985a-0f9a-4bcf-a8f3-68ae8eedb79d    137\n",
            "0b9c9d47-e233-473f-bf30-365f94538a11    132\n",
            "3b2b18db-2ac7-45cf-9244-19336464b1eb    130\n",
            "250bf84c-d24d-4c92-9b18-7e2beb765e64    128\n",
            "ccc00549-8908-4a4d-b402-4c461885f37a    124\n",
            "babd8cee-9bc2-4fe7-a2e8-7fdd8462f69a    123\n",
            "78b7557e-2689-429d-b14d-5d76909ec5ed    123\n",
            "72e89a46-0345-4fde-b1d6-81352f6c7453    122\n",
            "82b7b307-82b1-4c32-a190-2755714b6e6f    120\n",
            "f031767c-3bc5-4cfc-80a7-84fbde0fa5d2    119\n",
            "d762900c-2232-46b6-950d-f37e3fcfb147    119\n",
            "6f65d3a3-3443-4bf8-8c0b-2b017fabfebc    118\n",
            "                                       ... \n",
            "e0e54a4a-7366-4c30-943e-2c1b0fa16294      1\n",
            "b818b9d0-9ab6-4599-ae09-f964bddf4af8      1\n",
            "7a113ef0-6ff6-4ad3-814d-7815bab011f3      1\n",
            "64107b60-9bf9-4273-bc0a-57c6574fb34d      1\n",
            "dd799fca-51fb-4c26-b5bd-d393b7508c6a      1\n",
            "5e034fd2-12c4-47be-8fc9-4ab9fde056ed      1\n",
            "120db910-ddc0-416e-b130-e8fe4d945a3a      1\n",
            "46cc6683-0267-4518-a498-2806fc9dc480      1\n",
            "a6abb3d0-87a4-408b-ab87-78e34e34418a      1\n",
            "f04394c9-75b6-40a2-bb0d-fc09b60bcaef      1\n",
            "d3ca7f8b-4319-4152-9d43-521ad07f7521      1\n",
            "fae538bf-1289-4cce-896f-5a9097a26320      1\n",
            "ea218116-7ee1-4eed-9792-6f6486b46f24      1\n",
            "4edad90e-ee56-48ea-8096-d6eca9581494      1\n",
            "a4431b5b-ecff-426c-a3bf-28031e183dfc      1\n",
            "bf46e868-6d0f-494e-95c0-9be3d099f88d      1\n",
            "47218aa6-97a8-4ac5-b4ff-3d3561f89e95      1\n",
            "620eee5f-dba9-44c8-9986-4f36c165fce2      1\n",
            "86ba614e-317c-4635-a6d6-e3d14063833d      1\n",
            "c1ecbbe5-dbb2-4470-93ee-26ffc1fbef7d      1\n",
            "f318189d-0343-4cd0-8361-a26098c52966      1\n",
            "3127fb3d-00bc-458c-821b-eeefcfa0db49      1\n",
            "d2a9b95e-5562-47cd-9437-8a9aa96e177c      1\n",
            "9357961e-3ec2-491b-8745-34aeee72e0b9      1\n",
            "8ad89541-8e75-46fc-9fef-3e85a8302475      1\n",
            "10efb61f-20f1-4e2e-9050-120aaf4e27ab      1\n",
            "1e13f8d8-9e7e-4629-9cce-4b86aea73f52      1\n",
            "f3f80cb0-2c9b-47e2-967d-419214096cac      1\n",
            "57bdb9bd-c819-4bb0-806f-0a6a86af254e      1\n",
            "76ec4bb6-7385-4eed-beed-ecd5cb9ed3d6      1\n",
            "Name: anonymous_id, Length: 51751, dtype: int64\n",
            "--- NEXT DF ---\n"
          ],
          "name": "stdout"
        }
      ]
    },
    {
      "cell_type": "code",
      "metadata": {
        "id": "5x8OtZ6o1zrS",
        "outputId": "d7d506fd-3d14-4cf6-8773-d1774c91d531"
      },
      "source": [
        "address_change.head()"
      ],
      "execution_count": null,
      "outputs": [
        {
          "output_type": "execute_result",
          "data": {
            "text/html": [
              "<div>\n",
              "<style scoped>\n",
              "    .dataframe tbody tr th:only-of-type {\n",
              "        vertical-align: middle;\n",
              "    }\n",
              "\n",
              "    .dataframe tbody tr th {\n",
              "        vertical-align: top;\n",
              "    }\n",
              "\n",
              "    .dataframe thead th {\n",
              "        text-align: right;\n",
              "    }\n",
              "</style>\n",
              "<table border=\"1\" class=\"dataframe\">\n",
              "  <thead>\n",
              "    <tr style=\"text-align: right;\">\n",
              "      <th></th>\n",
              "      <th>timestamp</th>\n",
              "      <th>anonymous_id</th>\n",
              "      <th>source</th>\n",
              "    </tr>\n",
              "  </thead>\n",
              "  <tbody>\n",
              "    <tr>\n",
              "      <th>0</th>\n",
              "      <td>2020-12-17 16:52:48.751 UTC</td>\n",
              "      <td>01005c8a-9fae-463e-89de-c96ba54b33d5</td>\n",
              "      <td>add_alcohol</td>\n",
              "    </tr>\n",
              "    <tr>\n",
              "      <th>1</th>\n",
              "      <td>2020-12-07 19:47:02.284 UTC</td>\n",
              "      <td>033b1952-ff45-48ff-b26f-6cdb78d549a2</td>\n",
              "      <td>add_alcohol</td>\n",
              "    </tr>\n",
              "    <tr>\n",
              "      <th>2</th>\n",
              "      <td>2020-12-16 06:54:25.958 UTC</td>\n",
              "      <td>03fc2ae5-318f-4292-b1c8-68e59923cd4f</td>\n",
              "      <td>add_alcohol</td>\n",
              "    </tr>\n",
              "    <tr>\n",
              "      <th>3</th>\n",
              "      <td>2020-12-10 18:27:01.658 UTC</td>\n",
              "      <td>045a73a6-49cf-430a-81ba-80d0062d8bea</td>\n",
              "      <td>add_alcohol</td>\n",
              "    </tr>\n",
              "    <tr>\n",
              "      <th>4</th>\n",
              "      <td>2020-12-09 08:47:39.586 UTC</td>\n",
              "      <td>06bf46cd-3aa9-4526-8ad8-889b7dabbdfd</td>\n",
              "      <td>add_alcohol</td>\n",
              "    </tr>\n",
              "  </tbody>\n",
              "</table>\n",
              "</div>"
            ],
            "text/plain": [
              "                     timestamp                          anonymous_id  \\\n",
              "0  2020-12-17 16:52:48.751 UTC  01005c8a-9fae-463e-89de-c96ba54b33d5   \n",
              "1  2020-12-07 19:47:02.284 UTC  033b1952-ff45-48ff-b26f-6cdb78d549a2   \n",
              "2  2020-12-16 06:54:25.958 UTC  03fc2ae5-318f-4292-b1c8-68e59923cd4f   \n",
              "3  2020-12-10 18:27:01.658 UTC  045a73a6-49cf-430a-81ba-80d0062d8bea   \n",
              "4  2020-12-09 08:47:39.586 UTC  06bf46cd-3aa9-4526-8ad8-889b7dabbdfd   \n",
              "\n",
              "        source  \n",
              "0  add_alcohol  \n",
              "1  add_alcohol  \n",
              "2  add_alcohol  \n",
              "3  add_alcohol  \n",
              "4  add_alcohol  "
            ]
          },
          "metadata": {
            "tags": []
          },
          "execution_count": 89
        }
      ]
    },
    {
      "cell_type": "code",
      "metadata": {
        "id": "umacXLcC1zrT"
      },
      "source": [
        "sessions_df = ab_test_clean.merge(landing_hits, how='left', on='anonymous_id')"
      ],
      "execution_count": null,
      "outputs": []
    },
    {
      "cell_type": "code",
      "metadata": {
        "id": "xsblmmHY1zrT",
        "outputId": "e1c14193-af7f-46cc-c0e8-e22be10a4abc"
      },
      "source": [
        "sessions_df.head()"
      ],
      "execution_count": null,
      "outputs": [
        {
          "output_type": "execute_result",
          "data": {
            "text/html": [
              "<div>\n",
              "<style scoped>\n",
              "    .dataframe tbody tr th:only-of-type {\n",
              "        vertical-align: middle;\n",
              "    }\n",
              "\n",
              "    .dataframe tbody tr th {\n",
              "        vertical-align: top;\n",
              "    }\n",
              "\n",
              "    .dataframe thead th {\n",
              "        text-align: right;\n",
              "    }\n",
              "</style>\n",
              "<table border=\"1\" class=\"dataframe\">\n",
              "  <thead>\n",
              "    <tr style=\"text-align: right;\">\n",
              "      <th></th>\n",
              "      <th>hit_at</th>\n",
              "      <th>anonymous_id</th>\n",
              "      <th>group</th>\n",
              "      <th>device_type</th>\n",
              "      <th>browser</th>\n",
              "      <th>os</th>\n",
              "      <th>timestamp</th>\n",
              "    </tr>\n",
              "  </thead>\n",
              "  <tbody>\n",
              "    <tr>\n",
              "      <th>0</th>\n",
              "      <td>2020-11-30 04:21:38.616 UTC</td>\n",
              "      <td>3e05a2dc-3922-4caf-b837-08fcb337c82e</td>\n",
              "      <td>default</td>\n",
              "      <td>desktop</td>\n",
              "      <td>IE</td>\n",
              "      <td>Windows</td>\n",
              "      <td>2020-11-30 04:21:38.615 UTC</td>\n",
              "    </tr>\n",
              "    <tr>\n",
              "      <th>1</th>\n",
              "      <td>2020-12-01 20:24:04.363 UTC</td>\n",
              "      <td>7f00b6ca-7938-4866-a323-c520838f5ef9</td>\n",
              "      <td>default</td>\n",
              "      <td>desktop</td>\n",
              "      <td>IE</td>\n",
              "      <td>Windows</td>\n",
              "      <td>NaN</td>\n",
              "    </tr>\n",
              "    <tr>\n",
              "      <th>2</th>\n",
              "      <td>2020-11-28 20:16:52.901 UTC</td>\n",
              "      <td>91e9900e-2cc6-4362-92b4-9e6712a6918e</td>\n",
              "      <td>address_first</td>\n",
              "      <td>desktop</td>\n",
              "      <td>IE</td>\n",
              "      <td>Windows</td>\n",
              "      <td>NaN</td>\n",
              "    </tr>\n",
              "    <tr>\n",
              "      <th>3</th>\n",
              "      <td>2020-11-29 13:29:40.557 UTC</td>\n",
              "      <td>616dd5e8-dee2-47aa-9d80-0dfadcf1922f</td>\n",
              "      <td>default</td>\n",
              "      <td>desktop</td>\n",
              "      <td>IE</td>\n",
              "      <td>Windows</td>\n",
              "      <td>2020-11-29 13:29:40.42 UTC</td>\n",
              "    </tr>\n",
              "    <tr>\n",
              "      <th>4</th>\n",
              "      <td>2020-11-27 14:56:29.471 UTC</td>\n",
              "      <td>64734da4-d9f3-4d53-b401-4d0819a6e5fb</td>\n",
              "      <td>default</td>\n",
              "      <td>desktop</td>\n",
              "      <td>IE</td>\n",
              "      <td>Windows</td>\n",
              "      <td>2020-11-27 14:56:29.472 UTC</td>\n",
              "    </tr>\n",
              "  </tbody>\n",
              "</table>\n",
              "</div>"
            ],
            "text/plain": [
              "                        hit_at                          anonymous_id  \\\n",
              "0  2020-11-30 04:21:38.616 UTC  3e05a2dc-3922-4caf-b837-08fcb337c82e   \n",
              "1  2020-12-01 20:24:04.363 UTC  7f00b6ca-7938-4866-a323-c520838f5ef9   \n",
              "2  2020-11-28 20:16:52.901 UTC  91e9900e-2cc6-4362-92b4-9e6712a6918e   \n",
              "3  2020-11-29 13:29:40.557 UTC  616dd5e8-dee2-47aa-9d80-0dfadcf1922f   \n",
              "4  2020-11-27 14:56:29.471 UTC  64734da4-d9f3-4d53-b401-4d0819a6e5fb   \n",
              "\n",
              "           group device_type browser       os                    timestamp  \n",
              "0        default     desktop      IE  Windows  2020-11-30 04:21:38.615 UTC  \n",
              "1        default     desktop      IE  Windows                          NaN  \n",
              "2  address_first     desktop      IE  Windows                          NaN  \n",
              "3        default     desktop      IE  Windows   2020-11-29 13:29:40.42 UTC  \n",
              "4        default     desktop      IE  Windows  2020-11-27 14:56:29.472 UTC  "
            ]
          },
          "metadata": {
            "tags": []
          },
          "execution_count": 115
        }
      ]
    },
    {
      "cell_type": "code",
      "metadata": {
        "id": "4ipeaek01zrU",
        "outputId": "c4ecd5f5-9b6a-4e39-df85-d318fa435412"
      },
      "source": [
        "len(sessions_df)"
      ],
      "execution_count": null,
      "outputs": [
        {
          "output_type": "execute_result",
          "data": {
            "text/plain": [
              "618450"
            ]
          },
          "metadata": {
            "tags": []
          },
          "execution_count": 116
        }
      ]
    },
    {
      "cell_type": "code",
      "metadata": {
        "id": "fAmZQyhp1zrU"
      },
      "source": [
        "main_hits.drop_duplicates(inplace=True)"
      ],
      "execution_count": null,
      "outputs": []
    },
    {
      "cell_type": "code",
      "metadata": {
        "id": "8nnlyFDZ1zrV"
      },
      "source": [
        "sessions_df = sessions_df.merge(main_hits, how='left', on='anonymous_id', suffixes=('', '_main_page'))"
      ],
      "execution_count": null,
      "outputs": []
    },
    {
      "cell_type": "code",
      "metadata": {
        "id": "if893L5t1zrV",
        "outputId": "f638e7b4-086b-417e-9c4d-700099ff4fb9"
      },
      "source": [
        "len(sessions_df)"
      ],
      "execution_count": null,
      "outputs": [
        {
          "output_type": "execute_result",
          "data": {
            "text/plain": [
              "2262574"
            ]
          },
          "metadata": {
            "tags": []
          },
          "execution_count": 118
        }
      ]
    },
    {
      "cell_type": "code",
      "metadata": {
        "id": "jQY4ORmm1zrW"
      },
      "source": [
        "address_change.drop_duplicates(inplace=True)"
      ],
      "execution_count": null,
      "outputs": []
    },
    {
      "cell_type": "markdown",
      "metadata": {
        "id": "SM8mkww91zrW"
      },
      "source": [
        "тут начинается ненужное"
      ]
    },
    {
      "cell_type": "code",
      "metadata": {
        "id": "5FvgF7Ih1zrW"
      },
      "source": [
        "sessions_df = sessions_df.merge(address_change, how='left', on='anonymous_id', suffixes=('', '_address_change'))"
      ],
      "execution_count": null,
      "outputs": []
    },
    {
      "cell_type": "code",
      "metadata": {
        "id": "Pk3NHpZr1zrX",
        "outputId": "bea4270b-7af8-44b9-d5e8-0b116a18b42e"
      },
      "source": [
        "len(sessions_df)"
      ],
      "execution_count": null,
      "outputs": [
        {
          "output_type": "execute_result",
          "data": {
            "text/plain": [
              "18637993"
            ]
          },
          "metadata": {
            "tags": []
          },
          "execution_count": 99
        }
      ]
    },
    {
      "cell_type": "code",
      "metadata": {
        "id": "3-PJpRju1zrX",
        "outputId": "90b7f2e9-34f3-4a5b-cd2e-af38a733096a"
      },
      "source": [
        "sessions_df.head()"
      ],
      "execution_count": null,
      "outputs": [
        {
          "output_type": "execute_result",
          "data": {
            "text/html": [
              "<div>\n",
              "<style scoped>\n",
              "    .dataframe tbody tr th:only-of-type {\n",
              "        vertical-align: middle;\n",
              "    }\n",
              "\n",
              "    .dataframe tbody tr th {\n",
              "        vertical-align: top;\n",
              "    }\n",
              "\n",
              "    .dataframe thead th {\n",
              "        text-align: right;\n",
              "    }\n",
              "</style>\n",
              "<table border=\"1\" class=\"dataframe\">\n",
              "  <thead>\n",
              "    <tr style=\"text-align: right;\">\n",
              "      <th></th>\n",
              "      <th>hit_at</th>\n",
              "      <th>anonymous_id</th>\n",
              "      <th>group</th>\n",
              "      <th>device_type</th>\n",
              "      <th>browser</th>\n",
              "      <th>os</th>\n",
              "      <th>timestamp</th>\n",
              "      <th>timestamp_main_page</th>\n",
              "      <th>retailer_id</th>\n",
              "      <th>timestamp_address_change</th>\n",
              "      <th>source</th>\n",
              "    </tr>\n",
              "  </thead>\n",
              "  <tbody>\n",
              "    <tr>\n",
              "      <th>0</th>\n",
              "      <td>2020-11-30 04:21:38.616 UTC</td>\n",
              "      <td>3e05a2dc-3922-4caf-b837-08fcb337c82e</td>\n",
              "      <td>default</td>\n",
              "      <td>desktop</td>\n",
              "      <td>IE</td>\n",
              "      <td>Windows</td>\n",
              "      <td>2020-11-30 04:21:38.615 UTC</td>\n",
              "      <td>NaN</td>\n",
              "      <td>NaN</td>\n",
              "      <td>NaN</td>\n",
              "      <td>NaN</td>\n",
              "    </tr>\n",
              "    <tr>\n",
              "      <th>1</th>\n",
              "      <td>2020-12-01 20:24:04.363 UTC</td>\n",
              "      <td>7f00b6ca-7938-4866-a323-c520838f5ef9</td>\n",
              "      <td>default</td>\n",
              "      <td>desktop</td>\n",
              "      <td>IE</td>\n",
              "      <td>Windows</td>\n",
              "      <td>NaN</td>\n",
              "      <td>2020-12-01 20:24:04.364 UTC</td>\n",
              "      <td>1.0</td>\n",
              "      <td>NaN</td>\n",
              "      <td>NaN</td>\n",
              "    </tr>\n",
              "    <tr>\n",
              "      <th>2</th>\n",
              "      <td>2020-11-28 20:16:52.901 UTC</td>\n",
              "      <td>91e9900e-2cc6-4362-92b4-9e6712a6918e</td>\n",
              "      <td>address_first</td>\n",
              "      <td>desktop</td>\n",
              "      <td>IE</td>\n",
              "      <td>Windows</td>\n",
              "      <td>NaN</td>\n",
              "      <td>2020-11-28 20:16:53.083 UTC</td>\n",
              "      <td>1.0</td>\n",
              "      <td>NaN</td>\n",
              "      <td>NaN</td>\n",
              "    </tr>\n",
              "    <tr>\n",
              "      <th>3</th>\n",
              "      <td>2020-11-29 13:29:40.557 UTC</td>\n",
              "      <td>616dd5e8-dee2-47aa-9d80-0dfadcf1922f</td>\n",
              "      <td>default</td>\n",
              "      <td>desktop</td>\n",
              "      <td>IE</td>\n",
              "      <td>Windows</td>\n",
              "      <td>2020-11-29 13:29:40.42 UTC</td>\n",
              "      <td>NaN</td>\n",
              "      <td>NaN</td>\n",
              "      <td>NaN</td>\n",
              "      <td>NaN</td>\n",
              "    </tr>\n",
              "    <tr>\n",
              "      <th>4</th>\n",
              "      <td>2020-11-27 14:56:29.471 UTC</td>\n",
              "      <td>64734da4-d9f3-4d53-b401-4d0819a6e5fb</td>\n",
              "      <td>default</td>\n",
              "      <td>desktop</td>\n",
              "      <td>IE</td>\n",
              "      <td>Windows</td>\n",
              "      <td>2020-11-27 14:56:29.472 UTC</td>\n",
              "      <td>NaN</td>\n",
              "      <td>NaN</td>\n",
              "      <td>NaN</td>\n",
              "      <td>NaN</td>\n",
              "    </tr>\n",
              "  </tbody>\n",
              "</table>\n",
              "</div>"
            ],
            "text/plain": [
              "                        hit_at                          anonymous_id  \\\n",
              "0  2020-11-30 04:21:38.616 UTC  3e05a2dc-3922-4caf-b837-08fcb337c82e   \n",
              "1  2020-12-01 20:24:04.363 UTC  7f00b6ca-7938-4866-a323-c520838f5ef9   \n",
              "2  2020-11-28 20:16:52.901 UTC  91e9900e-2cc6-4362-92b4-9e6712a6918e   \n",
              "3  2020-11-29 13:29:40.557 UTC  616dd5e8-dee2-47aa-9d80-0dfadcf1922f   \n",
              "4  2020-11-27 14:56:29.471 UTC  64734da4-d9f3-4d53-b401-4d0819a6e5fb   \n",
              "\n",
              "           group device_type browser       os                    timestamp  \\\n",
              "0        default     desktop      IE  Windows  2020-11-30 04:21:38.615 UTC   \n",
              "1        default     desktop      IE  Windows                          NaN   \n",
              "2  address_first     desktop      IE  Windows                          NaN   \n",
              "3        default     desktop      IE  Windows   2020-11-29 13:29:40.42 UTC   \n",
              "4        default     desktop      IE  Windows  2020-11-27 14:56:29.472 UTC   \n",
              "\n",
              "           timestamp_main_page  retailer_id timestamp_address_change source  \n",
              "0                          NaN          NaN                      NaN    NaN  \n",
              "1  2020-12-01 20:24:04.364 UTC          1.0                      NaN    NaN  \n",
              "2  2020-11-28 20:16:53.083 UTC          1.0                      NaN    NaN  \n",
              "3                          NaN          NaN                      NaN    NaN  \n",
              "4                          NaN          NaN                      NaN    NaN  "
            ]
          },
          "metadata": {
            "tags": []
          },
          "execution_count": 100
        }
      ]
    },
    {
      "cell_type": "markdown",
      "metadata": {
        "id": "mpB9DBf21zrY"
      },
      "source": [
        "тут кончается ненужное"
      ]
    },
    {
      "cell_type": "code",
      "metadata": {
        "id": "1YXDWTIP1zrY"
      },
      "source": [
        "sessions = landing_hits.merge(main_hits, how='left', on='anonymous_id', suffixes=('_landing', '_main'))"
      ],
      "execution_count": null,
      "outputs": []
    },
    {
      "cell_type": "code",
      "metadata": {
        "id": "sQCy0GLs1zrY",
        "outputId": "f927f7d6-73cb-4e64-8f05-f62bef421be7"
      },
      "source": [
        "sessions.head()"
      ],
      "execution_count": null,
      "outputs": [
        {
          "output_type": "execute_result",
          "data": {
            "text/html": [
              "<div>\n",
              "<style scoped>\n",
              "    .dataframe tbody tr th:only-of-type {\n",
              "        vertical-align: middle;\n",
              "    }\n",
              "\n",
              "    .dataframe tbody tr th {\n",
              "        vertical-align: top;\n",
              "    }\n",
              "\n",
              "    .dataframe thead th {\n",
              "        text-align: right;\n",
              "    }\n",
              "</style>\n",
              "<table border=\"1\" class=\"dataframe\">\n",
              "  <thead>\n",
              "    <tr style=\"text-align: right;\">\n",
              "      <th></th>\n",
              "      <th>timestamp_landing</th>\n",
              "      <th>anonymous_id</th>\n",
              "      <th>timestamp_main</th>\n",
              "      <th>retailer_id</th>\n",
              "    </tr>\n",
              "  </thead>\n",
              "  <tbody>\n",
              "    <tr>\n",
              "      <th>0</th>\n",
              "      <td>2020-12-05 10:01:51.305 UTC</td>\n",
              "      <td>00001104-4c72-4f48-bb8c-ace2ded63f8b</td>\n",
              "      <td>2020-12-05 10:05:29 UTC</td>\n",
              "      <td>1.0</td>\n",
              "    </tr>\n",
              "    <tr>\n",
              "      <th>1</th>\n",
              "      <td>2020-12-05 10:01:51.305 UTC</td>\n",
              "      <td>00001104-4c72-4f48-bb8c-ace2ded63f8b</td>\n",
              "      <td>2020-12-05 10:04:36.492 UTC</td>\n",
              "      <td>57.0</td>\n",
              "    </tr>\n",
              "    <tr>\n",
              "      <th>2</th>\n",
              "      <td>2020-12-08 11:07:39.962 UTC</td>\n",
              "      <td>00007575-88d6-4acc-9940-e9ccb8358dca</td>\n",
              "      <td>NaN</td>\n",
              "      <td>NaN</td>\n",
              "    </tr>\n",
              "    <tr>\n",
              "      <th>3</th>\n",
              "      <td>2020-12-03 13:12:37.952 UTC</td>\n",
              "      <td>00016e45-138b-401e-9eac-78b92d48c6c4</td>\n",
              "      <td>NaN</td>\n",
              "      <td>NaN</td>\n",
              "    </tr>\n",
              "    <tr>\n",
              "      <th>4</th>\n",
              "      <td>2020-12-02 16:03:37.548 UTC</td>\n",
              "      <td>0001814e-5cf7-4d23-bc95-4630d9152fc1</td>\n",
              "      <td>NaN</td>\n",
              "      <td>NaN</td>\n",
              "    </tr>\n",
              "  </tbody>\n",
              "</table>\n",
              "</div>"
            ],
            "text/plain": [
              "             timestamp_landing                          anonymous_id  \\\n",
              "0  2020-12-05 10:01:51.305 UTC  00001104-4c72-4f48-bb8c-ace2ded63f8b   \n",
              "1  2020-12-05 10:01:51.305 UTC  00001104-4c72-4f48-bb8c-ace2ded63f8b   \n",
              "2  2020-12-08 11:07:39.962 UTC  00007575-88d6-4acc-9940-e9ccb8358dca   \n",
              "3  2020-12-03 13:12:37.952 UTC  00016e45-138b-401e-9eac-78b92d48c6c4   \n",
              "4  2020-12-02 16:03:37.548 UTC  0001814e-5cf7-4d23-bc95-4630d9152fc1   \n",
              "\n",
              "                timestamp_main  retailer_id  \n",
              "0      2020-12-05 10:05:29 UTC          1.0  \n",
              "1  2020-12-05 10:04:36.492 UTC         57.0  \n",
              "2                          NaN          NaN  \n",
              "3                          NaN          NaN  \n",
              "4                          NaN          NaN  "
            ]
          },
          "metadata": {
            "tags": []
          },
          "execution_count": 18
        }
      ]
    },
    {
      "cell_type": "code",
      "metadata": {
        "id": "JL3aQn2y1zra"
      },
      "source": [
        "sessions = sessions.merge(address_change, how='left', on='anonymous_id', suffixes=('', '_address_change'))"
      ],
      "execution_count": null,
      "outputs": []
    },
    {
      "cell_type": "code",
      "metadata": {
        "id": "xNfnwkgo1zra",
        "outputId": "c0b6c39d-fc5f-4601-fa11-85ad28709a69"
      },
      "source": [
        "sessions.head()"
      ],
      "execution_count": null,
      "outputs": [
        {
          "output_type": "execute_result",
          "data": {
            "text/html": [
              "<div>\n",
              "<style scoped>\n",
              "    .dataframe tbody tr th:only-of-type {\n",
              "        vertical-align: middle;\n",
              "    }\n",
              "\n",
              "    .dataframe tbody tr th {\n",
              "        vertical-align: top;\n",
              "    }\n",
              "\n",
              "    .dataframe thead th {\n",
              "        text-align: right;\n",
              "    }\n",
              "</style>\n",
              "<table border=\"1\" class=\"dataframe\">\n",
              "  <thead>\n",
              "    <tr style=\"text-align: right;\">\n",
              "      <th></th>\n",
              "      <th>timestamp_landing</th>\n",
              "      <th>anonymous_id</th>\n",
              "      <th>timestamp_main</th>\n",
              "      <th>retailer_id</th>\n",
              "      <th>timestamp</th>\n",
              "      <th>source</th>\n",
              "    </tr>\n",
              "  </thead>\n",
              "  <tbody>\n",
              "    <tr>\n",
              "      <th>0</th>\n",
              "      <td>2020-12-05 10:01:51.305 UTC</td>\n",
              "      <td>00001104-4c72-4f48-bb8c-ace2ded63f8b</td>\n",
              "      <td>2020-12-05 10:05:29 UTC</td>\n",
              "      <td>1.0</td>\n",
              "      <td>NaN</td>\n",
              "      <td>NaN</td>\n",
              "    </tr>\n",
              "    <tr>\n",
              "      <th>1</th>\n",
              "      <td>2020-12-05 10:01:51.305 UTC</td>\n",
              "      <td>00001104-4c72-4f48-bb8c-ace2ded63f8b</td>\n",
              "      <td>2020-12-05 10:04:36.492 UTC</td>\n",
              "      <td>57.0</td>\n",
              "      <td>NaN</td>\n",
              "      <td>NaN</td>\n",
              "    </tr>\n",
              "    <tr>\n",
              "      <th>2</th>\n",
              "      <td>2020-12-08 11:07:39.962 UTC</td>\n",
              "      <td>00007575-88d6-4acc-9940-e9ccb8358dca</td>\n",
              "      <td>NaN</td>\n",
              "      <td>NaN</td>\n",
              "      <td>NaN</td>\n",
              "      <td>NaN</td>\n",
              "    </tr>\n",
              "    <tr>\n",
              "      <th>3</th>\n",
              "      <td>2020-12-03 13:12:37.952 UTC</td>\n",
              "      <td>00016e45-138b-401e-9eac-78b92d48c6c4</td>\n",
              "      <td>NaN</td>\n",
              "      <td>NaN</td>\n",
              "      <td>NaN</td>\n",
              "      <td>NaN</td>\n",
              "    </tr>\n",
              "    <tr>\n",
              "      <th>4</th>\n",
              "      <td>2020-12-02 16:03:37.548 UTC</td>\n",
              "      <td>0001814e-5cf7-4d23-bc95-4630d9152fc1</td>\n",
              "      <td>NaN</td>\n",
              "      <td>NaN</td>\n",
              "      <td>NaN</td>\n",
              "      <td>NaN</td>\n",
              "    </tr>\n",
              "  </tbody>\n",
              "</table>\n",
              "</div>"
            ],
            "text/plain": [
              "             timestamp_landing                          anonymous_id  \\\n",
              "0  2020-12-05 10:01:51.305 UTC  00001104-4c72-4f48-bb8c-ace2ded63f8b   \n",
              "1  2020-12-05 10:01:51.305 UTC  00001104-4c72-4f48-bb8c-ace2ded63f8b   \n",
              "2  2020-12-08 11:07:39.962 UTC  00007575-88d6-4acc-9940-e9ccb8358dca   \n",
              "3  2020-12-03 13:12:37.952 UTC  00016e45-138b-401e-9eac-78b92d48c6c4   \n",
              "4  2020-12-02 16:03:37.548 UTC  0001814e-5cf7-4d23-bc95-4630d9152fc1   \n",
              "\n",
              "                timestamp_main  retailer_id timestamp source  \n",
              "0      2020-12-05 10:05:29 UTC          1.0       NaN    NaN  \n",
              "1  2020-12-05 10:04:36.492 UTC         57.0       NaN    NaN  \n",
              "2                          NaN          NaN       NaN    NaN  \n",
              "3                          NaN          NaN       NaN    NaN  \n",
              "4                          NaN          NaN       NaN    NaN  "
            ]
          },
          "metadata": {
            "tags": []
          },
          "execution_count": 20
        }
      ]
    },
    {
      "cell_type": "code",
      "metadata": {
        "id": "BatJZMC31zrb"
      },
      "source": [
        "sessions_long = sessions.melt(id_vars=['anonymous_id'], value_vars=['timestamp_landing', 'timestamp_main', 'timestamp'])"
      ],
      "execution_count": null,
      "outputs": []
    },
    {
      "cell_type": "code",
      "metadata": {
        "id": "yqmgYEvJ1zrb"
      },
      "source": [
        "sessions['hour'] = sessions['timestamp_landing'].apply(lambda x: x[:13])"
      ],
      "execution_count": null,
      "outputs": []
    },
    {
      "cell_type": "code",
      "metadata": {
        "id": "oPCX9esc1zrb"
      },
      "source": [
        "sessions_hourly = sessions.groupby(['anonymous_id', 'hour'])"
      ],
      "execution_count": null,
      "outputs": []
    },
    {
      "cell_type": "code",
      "metadata": {
        "id": "50WxegZD1zrc"
      },
      "source": [
        "sessions_hourly_clean = sessions_hourly.count().reset_index()"
      ],
      "execution_count": null,
      "outputs": []
    },
    {
      "cell_type": "code",
      "metadata": {
        "id": "9g0VJowF1zrc",
        "outputId": "a8fd14db-4d5f-47cd-9d5d-0be046ca8fe0"
      },
      "source": [
        "len(sessions_hourly_clean)"
      ],
      "execution_count": null,
      "outputs": [
        {
          "output_type": "execute_result",
          "data": {
            "text/plain": [
              "250025"
            ]
          },
          "metadata": {
            "tags": []
          },
          "execution_count": 25
        }
      ]
    },
    {
      "cell_type": "code",
      "metadata": {
        "id": "w_2EOh9x1zrd"
      },
      "source": [
        "sessions_hourly_clean = sessions_hourly_clean.merge(ab_test_clean[['anonymous_id', 'group']], how='inner', on='anonymous_id').drop_duplicates()"
      ],
      "execution_count": null,
      "outputs": []
    },
    {
      "cell_type": "code",
      "metadata": {
        "id": "6hKt9Kkd1zrd",
        "outputId": "559d10a0-52bb-48a6-ae02-f6b85f2b8631"
      },
      "source": [
        "len(sessions_hourly_clean)"
      ],
      "execution_count": null,
      "outputs": [
        {
          "output_type": "execute_result",
          "data": {
            "text/plain": [
              "249693"
            ]
          },
          "metadata": {
            "tags": []
          },
          "execution_count": 27
        }
      ]
    },
    {
      "cell_type": "code",
      "metadata": {
        "id": "3RE1sUZn1zre",
        "outputId": "4af454a1-7e81-4cd9-89c1-6f9b83495d13"
      },
      "source": [
        "sessions_hourly_clean.head()"
      ],
      "execution_count": null,
      "outputs": [
        {
          "output_type": "execute_result",
          "data": {
            "text/html": [
              "<div>\n",
              "<style scoped>\n",
              "    .dataframe tbody tr th:only-of-type {\n",
              "        vertical-align: middle;\n",
              "    }\n",
              "\n",
              "    .dataframe tbody tr th {\n",
              "        vertical-align: top;\n",
              "    }\n",
              "\n",
              "    .dataframe thead th {\n",
              "        text-align: right;\n",
              "    }\n",
              "</style>\n",
              "<table border=\"1\" class=\"dataframe\">\n",
              "  <thead>\n",
              "    <tr style=\"text-align: right;\">\n",
              "      <th></th>\n",
              "      <th>anonymous_id</th>\n",
              "      <th>hour</th>\n",
              "      <th>timestamp_landing</th>\n",
              "      <th>timestamp_main</th>\n",
              "      <th>retailer_id</th>\n",
              "      <th>timestamp</th>\n",
              "      <th>source</th>\n",
              "      <th>group</th>\n",
              "    </tr>\n",
              "  </thead>\n",
              "  <tbody>\n",
              "    <tr>\n",
              "      <th>0</th>\n",
              "      <td>00001104-4c72-4f48-bb8c-ace2ded63f8b</td>\n",
              "      <td>2020-12-05 10</td>\n",
              "      <td>2</td>\n",
              "      <td>2</td>\n",
              "      <td>2</td>\n",
              "      <td>0</td>\n",
              "      <td>0</td>\n",
              "      <td>default</td>\n",
              "    </tr>\n",
              "    <tr>\n",
              "      <th>1</th>\n",
              "      <td>00007575-88d6-4acc-9940-e9ccb8358dca</td>\n",
              "      <td>2020-12-08 11</td>\n",
              "      <td>1</td>\n",
              "      <td>0</td>\n",
              "      <td>0</td>\n",
              "      <td>0</td>\n",
              "      <td>0</td>\n",
              "      <td>default</td>\n",
              "    </tr>\n",
              "    <tr>\n",
              "      <th>2</th>\n",
              "      <td>00016e45-138b-401e-9eac-78b92d48c6c4</td>\n",
              "      <td>2020-12-03 13</td>\n",
              "      <td>1</td>\n",
              "      <td>0</td>\n",
              "      <td>0</td>\n",
              "      <td>0</td>\n",
              "      <td>0</td>\n",
              "      <td>default</td>\n",
              "    </tr>\n",
              "    <tr>\n",
              "      <th>3</th>\n",
              "      <td>0001814e-5cf7-4d23-bc95-4630d9152fc1</td>\n",
              "      <td>2020-12-02 16</td>\n",
              "      <td>1</td>\n",
              "      <td>0</td>\n",
              "      <td>0</td>\n",
              "      <td>0</td>\n",
              "      <td>0</td>\n",
              "      <td>default</td>\n",
              "    </tr>\n",
              "    <tr>\n",
              "      <th>4</th>\n",
              "      <td>00021d91-c65e-4049-9ae1-7d64702c8c12</td>\n",
              "      <td>2020-12-01 08</td>\n",
              "      <td>2</td>\n",
              "      <td>2</td>\n",
              "      <td>2</td>\n",
              "      <td>0</td>\n",
              "      <td>0</td>\n",
              "      <td>default</td>\n",
              "    </tr>\n",
              "  </tbody>\n",
              "</table>\n",
              "</div>"
            ],
            "text/plain": [
              "                           anonymous_id           hour  timestamp_landing  \\\n",
              "0  00001104-4c72-4f48-bb8c-ace2ded63f8b  2020-12-05 10                  2   \n",
              "1  00007575-88d6-4acc-9940-e9ccb8358dca  2020-12-08 11                  1   \n",
              "2  00016e45-138b-401e-9eac-78b92d48c6c4  2020-12-03 13                  1   \n",
              "3  0001814e-5cf7-4d23-bc95-4630d9152fc1  2020-12-02 16                  1   \n",
              "4  00021d91-c65e-4049-9ae1-7d64702c8c12  2020-12-01 08                  2   \n",
              "\n",
              "   timestamp_main  retailer_id  timestamp  source    group  \n",
              "0               2            2          0       0  default  \n",
              "1               0            0          0       0  default  \n",
              "2               0            0          0       0  default  \n",
              "3               0            0          0       0  default  \n",
              "4               2            2          0       0  default  "
            ]
          },
          "metadata": {
            "tags": []
          },
          "execution_count": 29
        }
      ]
    },
    {
      "cell_type": "code",
      "metadata": {
        "id": "SBMh6bPk1zre"
      },
      "source": [
        "sessions_hourly_clean['bounced'] = sessions_hourly_clean.apply(lambda x: 1 if x['timestamp'] == 0 and x['timestamp_main'] == 0 else 0, axis=1)"
      ],
      "execution_count": null,
      "outputs": []
    },
    {
      "cell_type": "code",
      "metadata": {
        "id": "vfTv7C-o1zre"
      },
      "source": [
        "sessions_ = sessions_hourly_clean.groupby(['hour', 'group']).agg({'anonymous_id':'nunique', 'bounced':'sum'}).reset_index()"
      ],
      "execution_count": null,
      "outputs": []
    },
    {
      "cell_type": "code",
      "metadata": {
        "id": "QphShmI11zrf"
      },
      "source": [
        "sessions_['bounce_rate'] = sessions_['bounced'] / sessions_['anonymous_id']"
      ],
      "execution_count": null,
      "outputs": []
    },
    {
      "cell_type": "code",
      "metadata": {
        "id": "1afjRLqo1zrf",
        "outputId": "b735164f-9c17-45af-f458-dc62656462ea"
      },
      "source": [
        "sessions_.head()"
      ],
      "execution_count": null,
      "outputs": [
        {
          "output_type": "execute_result",
          "data": {
            "text/html": [
              "<div>\n",
              "<style scoped>\n",
              "    .dataframe tbody tr th:only-of-type {\n",
              "        vertical-align: middle;\n",
              "    }\n",
              "\n",
              "    .dataframe tbody tr th {\n",
              "        vertical-align: top;\n",
              "    }\n",
              "\n",
              "    .dataframe thead th {\n",
              "        text-align: right;\n",
              "    }\n",
              "</style>\n",
              "<table border=\"1\" class=\"dataframe\">\n",
              "  <thead>\n",
              "    <tr style=\"text-align: right;\">\n",
              "      <th></th>\n",
              "      <th>hour</th>\n",
              "      <th>group</th>\n",
              "      <th>anonymous_id</th>\n",
              "      <th>bounced</th>\n",
              "      <th>bounce_rate</th>\n",
              "    </tr>\n",
              "  </thead>\n",
              "  <tbody>\n",
              "    <tr>\n",
              "      <th>0</th>\n",
              "      <td>2020-11-26 00</td>\n",
              "      <td>address_first</td>\n",
              "      <td>27</td>\n",
              "      <td>22</td>\n",
              "      <td>0.814815</td>\n",
              "    </tr>\n",
              "    <tr>\n",
              "      <th>1</th>\n",
              "      <td>2020-11-26 00</td>\n",
              "      <td>default</td>\n",
              "      <td>199</td>\n",
              "      <td>155</td>\n",
              "      <td>0.778894</td>\n",
              "    </tr>\n",
              "    <tr>\n",
              "      <th>2</th>\n",
              "      <td>2020-11-26 01</td>\n",
              "      <td>address_first</td>\n",
              "      <td>21</td>\n",
              "      <td>16</td>\n",
              "      <td>0.761905</td>\n",
              "    </tr>\n",
              "    <tr>\n",
              "      <th>3</th>\n",
              "      <td>2020-11-26 01</td>\n",
              "      <td>default</td>\n",
              "      <td>186</td>\n",
              "      <td>129</td>\n",
              "      <td>0.693548</td>\n",
              "    </tr>\n",
              "    <tr>\n",
              "      <th>4</th>\n",
              "      <td>2020-11-26 02</td>\n",
              "      <td>address_first</td>\n",
              "      <td>53</td>\n",
              "      <td>47</td>\n",
              "      <td>0.886792</td>\n",
              "    </tr>\n",
              "  </tbody>\n",
              "</table>\n",
              "</div>"
            ],
            "text/plain": [
              "            hour          group  anonymous_id  bounced  bounce_rate\n",
              "0  2020-11-26 00  address_first            27       22     0.814815\n",
              "1  2020-11-26 00        default           199      155     0.778894\n",
              "2  2020-11-26 01  address_first            21       16     0.761905\n",
              "3  2020-11-26 01        default           186      129     0.693548\n",
              "4  2020-11-26 02  address_first            53       47     0.886792"
            ]
          },
          "metadata": {
            "tags": []
          },
          "execution_count": 33
        }
      ]
    },
    {
      "cell_type": "code",
      "metadata": {
        "id": "1UcU_MYE1zrf"
      },
      "source": [
        "import seaborn as sns"
      ],
      "execution_count": null,
      "outputs": []
    },
    {
      "cell_type": "code",
      "metadata": {
        "id": "U0QreC9k1zrg"
      },
      "source": [
        "%matplotlib inline"
      ],
      "execution_count": null,
      "outputs": []
    },
    {
      "cell_type": "code",
      "metadata": {
        "id": "UUoRgOKE1zrg"
      },
      "source": [
        "from matplotlib import pyplot as plt"
      ],
      "execution_count": null,
      "outputs": []
    },
    {
      "cell_type": "code",
      "metadata": {
        "id": "zP_FbMSZ1zrg"
      },
      "source": [
        "plt.rcParams[\"figure.figsize\"] = (20,10)"
      ],
      "execution_count": null,
      "outputs": []
    },
    {
      "cell_type": "code",
      "metadata": {
        "id": "-9CYUlQk1zrh",
        "outputId": "3c48ff08-61b3-4cac-c920-249c460cb530"
      },
      "source": [
        "sns.lineplot(data=sessions_, x='hour_ts', y='bounce_rate', hue='group', ci='cd')"
      ],
      "execution_count": null,
      "outputs": [
        {
          "output_type": "execute_result",
          "data": {
            "text/plain": [
              "<matplotlib.axes._subplots.AxesSubplot at 0x7f49cc596da0>"
            ]
          },
          "metadata": {
            "tags": []
          },
          "execution_count": 45
        },
        {
          "output_type": "display_data",
          "data": {
            "image/png": "[encoded data removed]",
            "text/plain": [
              "<matplotlib.figure.Figure at 0x7f49cc667240>"
            ]
          },
          "metadata": {
            "tags": []
          }
        }
      ]
    },
    {
      "cell_type": "code",
      "metadata": {
        "id": "HBMgan1F1zrh",
        "outputId": "d805ae6a-549f-4162-802f-fd5ee8dae076"
      },
      "source": [
        "sns.lineplot(data=sessions_, x='hour_ts', y='anonymous_id', hue='group')"
      ],
      "execution_count": null,
      "outputs": [
        {
          "output_type": "execute_result",
          "data": {
            "text/plain": [
              "<matplotlib.axes._subplots.AxesSubplot at 0x7fcec8c5d160>"
            ]
          },
          "metadata": {
            "tags": []
          },
          "execution_count": 66
        },
        {
          "output_type": "display_data",
          "data": {
            "image/png": "[encoded data removed]",
            "text/plain": [
              "<matplotlib.figure.Figure at 0x7fcec8d08e10>"
            ]
          },
          "metadata": {
            "tags": []
          }
        }
      ]
    },
    {
      "cell_type": "code",
      "metadata": {
        "id": "ggpbQCFp1zri"
      },
      "source": [
        "sessions_['hour_ts'] = sessions_['hour'].apply(lambda x: pd.to_datetime(x+':00:00'))"
      ],
      "execution_count": null,
      "outputs": []
    },
    {
      "cell_type": "code",
      "metadata": {
        "id": "rbA8T1WM1zri"
      },
      "source": [
        "sessions_['day'] = sessions_['hour'].apply(lambda x: x[:10])"
      ],
      "execution_count": null,
      "outputs": []
    },
    {
      "cell_type": "code",
      "metadata": {
        "id": "Ov_xgz4I1zri"
      },
      "source": [],
      "execution_count": null,
      "outputs": []
    },
    {
      "cell_type": "code",
      "metadata": {
        "id": "VuUCbRqG1zri"
      },
      "source": [],
      "execution_count": null,
      "outputs": []
    },
    {
      "cell_type": "code",
      "metadata": {
        "id": "PW2ZOZ161zrj",
        "outputId": "5f216846-6fd1-4280-92cd-ea9d4a85c7bd"
      },
      "source": [
        "sessions_[sessions_['day'] < '2020-12-11'].groupby(['group']).median()"
      ],
      "execution_count": null,
      "outputs": [
        {
          "output_type": "execute_result",
          "data": {
            "text/html": [
              "<div>\n",
              "<style scoped>\n",
              "    .dataframe tbody tr th:only-of-type {\n",
              "        vertical-align: middle;\n",
              "    }\n",
              "\n",
              "    .dataframe tbody tr th {\n",
              "        vertical-align: top;\n",
              "    }\n",
              "\n",
              "    .dataframe thead th {\n",
              "        text-align: right;\n",
              "    }\n",
              "</style>\n",
              "<table border=\"1\" class=\"dataframe\">\n",
              "  <thead>\n",
              "    <tr style=\"text-align: right;\">\n",
              "      <th></th>\n",
              "      <th>anonymous_id</th>\n",
              "      <th>bounced</th>\n",
              "      <th>bounce_rate</th>\n",
              "    </tr>\n",
              "    <tr>\n",
              "      <th>group</th>\n",
              "      <th></th>\n",
              "      <th></th>\n",
              "      <th></th>\n",
              "    </tr>\n",
              "  </thead>\n",
              "  <tbody>\n",
              "    <tr>\n",
              "      <th>address_first</th>\n",
              "      <td>78</td>\n",
              "      <td>38</td>\n",
              "      <td>0.517278</td>\n",
              "    </tr>\n",
              "    <tr>\n",
              "      <th>default</th>\n",
              "      <td>637</td>\n",
              "      <td>314</td>\n",
              "      <td>0.518572</td>\n",
              "    </tr>\n",
              "  </tbody>\n",
              "</table>\n",
              "</div>"
            ],
            "text/plain": [
              "               anonymous_id  bounced  bounce_rate\n",
              "group                                            \n",
              "address_first            78       38     0.517278\n",
              "default                 637      314     0.518572"
            ]
          },
          "metadata": {
            "tags": []
          },
          "execution_count": 58
        }
      ]
    },
    {
      "cell_type": "code",
      "metadata": {
        "id": "HW5MkldQ1zrj"
      },
      "source": [
        "from scipy.stats import mannwhitneyu"
      ],
      "execution_count": null,
      "outputs": []
    },
    {
      "cell_type": "code",
      "metadata": {
        "id": "76pqC5e61zrj",
        "outputId": "a071d8cb-f2bb-4ef3-f474-e8e0c49fc054"
      },
      "source": [
        "mannwhitneyu(sessions_[sessions_['group']=='default']['bounce_rate'], sessions_[sessions_['group']=='address_first']['bounce_rate'])"
      ],
      "execution_count": null,
      "outputs": [
        {
          "output_type": "execute_result",
          "data": {
            "text/plain": [
              "MannwhitneyuResult(statistic=135226.5, pvalue=0.3183621440054799)"
            ]
          },
          "metadata": {
            "tags": []
          },
          "execution_count": 47
        }
      ]
    },
    {
      "cell_type": "code",
      "metadata": {
        "id": "JuwWV39y1zrk",
        "outputId": "7c65d5c0-5823-45c1-e840-46b049fb0484"
      },
      "source": [
        "mannwhitneyu(sessions_[(sessions_['group']=='default')&(sessions_['hour'] < '2020-12-11')]['bounce_rate'], sessions_[(sessions_['group']=='address_first')&(sessions_['hour'] < '2020-12-11')]['bounce_rate'])"
      ],
      "execution_count": null,
      "outputs": [
        {
          "output_type": "execute_result",
          "data": {
            "text/plain": [
              "MannwhitneyuResult(statistic=61718.5, pvalue=0.13477210463377265)"
            ]
          },
          "metadata": {
            "tags": []
          },
          "execution_count": 53
        }
      ]
    },
    {
      "cell_type": "code",
      "metadata": {
        "id": "IbXMPk_11zrk",
        "outputId": "f6140abc-802c-4c6a-81d3-7e9ba997439f"
      },
      "source": [
        "mannwhitneyu(sessions_[(sessions_['group']=='default')&(sessions_['hour'] >= '2020-12-11')]['bounce_rate'], sessions_[(sessions_['group']=='address_first')&(sessions_['hour'] >= '2020-12-11')]['bounce_rate'])"
      ],
      "execution_count": null,
      "outputs": [
        {
          "output_type": "execute_result",
          "data": {
            "text/plain": [
              "MannwhitneyuResult(statistic=12456.0, pvalue=0.10763815243886782)"
            ]
          },
          "metadata": {
            "tags": []
          },
          "execution_count": 54
        }
      ]
    },
    {
      "cell_type": "code",
      "metadata": {
        "id": "ofJpfQZu1zrl"
      },
      "source": [
        "product_add.drop_duplicates(inplace=True)"
      ],
      "execution_count": null,
      "outputs": []
    },
    {
      "cell_type": "code",
      "metadata": {
        "id": "BC_ZU6VB1zrl",
        "outputId": "d0be4eb7-7b3f-44c5-f57b-d89af7b8ab01"
      },
      "source": [
        "product_add.describe()"
      ],
      "execution_count": null,
      "outputs": [
        {
          "output_type": "execute_result",
          "data": {
            "text/html": [
              "<div>\n",
              "<style scoped>\n",
              "    .dataframe tbody tr th:only-of-type {\n",
              "        vertical-align: middle;\n",
              "    }\n",
              "\n",
              "    .dataframe tbody tr th {\n",
              "        vertical-align: top;\n",
              "    }\n",
              "\n",
              "    .dataframe thead th {\n",
              "        text-align: right;\n",
              "    }\n",
              "</style>\n",
              "<table border=\"1\" class=\"dataframe\">\n",
              "  <thead>\n",
              "    <tr style=\"text-align: right;\">\n",
              "      <th></th>\n",
              "      <th>timestamp</th>\n",
              "      <th>anonymous_id</th>\n",
              "    </tr>\n",
              "  </thead>\n",
              "  <tbody>\n",
              "    <tr>\n",
              "      <th>count</th>\n",
              "      <td>1150060</td>\n",
              "      <td>1150060</td>\n",
              "    </tr>\n",
              "    <tr>\n",
              "      <th>unique</th>\n",
              "      <td>1148607</td>\n",
              "      <td>44123</td>\n",
              "    </tr>\n",
              "    <tr>\n",
              "      <th>top</th>\n",
              "      <td>2020-12-08 11:43:24.023 UTC</td>\n",
              "      <td>3e5732f3-b0fb-4c1f-8bed-dd7a68994585</td>\n",
              "    </tr>\n",
              "    <tr>\n",
              "      <th>freq</th>\n",
              "      <td>4</td>\n",
              "      <td>1031</td>\n",
              "    </tr>\n",
              "  </tbody>\n",
              "</table>\n",
              "</div>"
            ],
            "text/plain": [
              "                          timestamp                          anonymous_id\n",
              "count                       1150060                               1150060\n",
              "unique                      1148607                                 44123\n",
              "top     2020-12-08 11:43:24.023 UTC  3e5732f3-b0fb-4c1f-8bed-dd7a68994585\n",
              "freq                              4                                  1031"
            ]
          },
          "metadata": {
            "tags": []
          },
          "execution_count": 29
        }
      ]
    },
    {
      "cell_type": "code",
      "metadata": {
        "id": "zJfzq3w41zrl"
      },
      "source": [
        "product_add['day'] = product_add['timestamp'].apply(lambda x: x[:10])"
      ],
      "execution_count": null,
      "outputs": []
    },
    {
      "cell_type": "code",
      "metadata": {
        "id": "a0snFPK-1zrm"
      },
      "source": [
        "product_add['hour'] = product_add['timestamp'].apply(lambda x: x[:13])"
      ],
      "execution_count": null,
      "outputs": []
    },
    {
      "cell_type": "code",
      "metadata": {
        "id": "WtYooBKQ1zrm"
      },
      "source": [
        "product_reduced = product_add[['day', 'hour', 'anonymous_id']].drop_duplicates()"
      ],
      "execution_count": null,
      "outputs": []
    },
    {
      "cell_type": "code",
      "metadata": {
        "id": "OhYVHsoV1zrm",
        "outputId": "8bccb894-c925-4072-b2f9-779a8193f72b"
      },
      "source": [
        "product_reduced.head()"
      ],
      "execution_count": null,
      "outputs": [
        {
          "output_type": "execute_result",
          "data": {
            "text/html": [
              "<div>\n",
              "<style scoped>\n",
              "    .dataframe tbody tr th:only-of-type {\n",
              "        vertical-align: middle;\n",
              "    }\n",
              "\n",
              "    .dataframe tbody tr th {\n",
              "        vertical-align: top;\n",
              "    }\n",
              "\n",
              "    .dataframe thead th {\n",
              "        text-align: right;\n",
              "    }\n",
              "</style>\n",
              "<table border=\"1\" class=\"dataframe\">\n",
              "  <thead>\n",
              "    <tr style=\"text-align: right;\">\n",
              "      <th></th>\n",
              "      <th>day</th>\n",
              "      <th>hour</th>\n",
              "      <th>anonymous_id</th>\n",
              "    </tr>\n",
              "  </thead>\n",
              "  <tbody>\n",
              "    <tr>\n",
              "      <th>0</th>\n",
              "      <td>2020-12-09</td>\n",
              "      <td>2020-12-09 20</td>\n",
              "      <td>e2d50ef1-0667-4da4-88ef-ecbdd7c6a73a</td>\n",
              "    </tr>\n",
              "    <tr>\n",
              "      <th>1</th>\n",
              "      <td>2020-12-09</td>\n",
              "      <td>2020-12-09 19</td>\n",
              "      <td>bb5ca977-97f4-4ec8-8a71-fe206108917b</td>\n",
              "    </tr>\n",
              "    <tr>\n",
              "      <th>2</th>\n",
              "      <td>2020-12-09</td>\n",
              "      <td>2020-12-09 21</td>\n",
              "      <td>8e965f2b-7da0-4efb-84f5-f205956e8c30</td>\n",
              "    </tr>\n",
              "    <tr>\n",
              "      <th>4</th>\n",
              "      <td>2020-12-09</td>\n",
              "      <td>2020-12-09 22</td>\n",
              "      <td>8e965f2b-7da0-4efb-84f5-f205956e8c30</td>\n",
              "    </tr>\n",
              "    <tr>\n",
              "      <th>5</th>\n",
              "      <td>2020-12-09</td>\n",
              "      <td>2020-12-09 22</td>\n",
              "      <td>f6b363c3-4498-487b-bd00-6a04a13a6f24</td>\n",
              "    </tr>\n",
              "  </tbody>\n",
              "</table>\n",
              "</div>"
            ],
            "text/plain": [
              "          day           hour                          anonymous_id\n",
              "0  2020-12-09  2020-12-09 20  e2d50ef1-0667-4da4-88ef-ecbdd7c6a73a\n",
              "1  2020-12-09  2020-12-09 19  bb5ca977-97f4-4ec8-8a71-fe206108917b\n",
              "2  2020-12-09  2020-12-09 21  8e965f2b-7da0-4efb-84f5-f205956e8c30\n",
              "4  2020-12-09  2020-12-09 22  8e965f2b-7da0-4efb-84f5-f205956e8c30\n",
              "5  2020-12-09  2020-12-09 22  f6b363c3-4498-487b-bd00-6a04a13a6f24"
            ]
          },
          "metadata": {
            "tags": []
          },
          "execution_count": 33
        }
      ]
    },
    {
      "cell_type": "code",
      "metadata": {
        "id": "Ykw8giJo1zrn"
      },
      "source": [
        "sessions_w_product = sessions_hourly_clean.merge(product_reduced, on=['anonymous_id', 'hour'], how='left', suffixes=('', '_product'))"
      ],
      "execution_count": null,
      "outputs": []
    },
    {
      "cell_type": "code",
      "metadata": {
        "id": "_5RKDwtL1zrn",
        "outputId": "89acfffa-29b4-4eb2-cf86-238d22ac0486"
      },
      "source": [
        "sessions_w_product.head()"
      ],
      "execution_count": null,
      "outputs": [
        {
          "output_type": "execute_result",
          "data": {
            "text/html": [
              "<div>\n",
              "<style scoped>\n",
              "    .dataframe tbody tr th:only-of-type {\n",
              "        vertical-align: middle;\n",
              "    }\n",
              "\n",
              "    .dataframe tbody tr th {\n",
              "        vertical-align: top;\n",
              "    }\n",
              "\n",
              "    .dataframe thead th {\n",
              "        text-align: right;\n",
              "    }\n",
              "</style>\n",
              "<table border=\"1\" class=\"dataframe\">\n",
              "  <thead>\n",
              "    <tr style=\"text-align: right;\">\n",
              "      <th></th>\n",
              "      <th>anonymous_id</th>\n",
              "      <th>hour</th>\n",
              "      <th>timestamp_landing</th>\n",
              "      <th>timestamp_main</th>\n",
              "      <th>retailer_id</th>\n",
              "      <th>timestamp</th>\n",
              "      <th>source</th>\n",
              "      <th>group</th>\n",
              "      <th>day</th>\n",
              "      <th>product_added</th>\n",
              "    </tr>\n",
              "  </thead>\n",
              "  <tbody>\n",
              "    <tr>\n",
              "      <th>0</th>\n",
              "      <td>00001104-4c72-4f48-bb8c-ace2ded63f8b</td>\n",
              "      <td>2020-12-05 10</td>\n",
              "      <td>2</td>\n",
              "      <td>2</td>\n",
              "      <td>2</td>\n",
              "      <td>0</td>\n",
              "      <td>0</td>\n",
              "      <td>default</td>\n",
              "      <td>NaN</td>\n",
              "      <td>False</td>\n",
              "    </tr>\n",
              "    <tr>\n",
              "      <th>1</th>\n",
              "      <td>00007575-88d6-4acc-9940-e9ccb8358dca</td>\n",
              "      <td>2020-12-08 11</td>\n",
              "      <td>1</td>\n",
              "      <td>0</td>\n",
              "      <td>0</td>\n",
              "      <td>0</td>\n",
              "      <td>0</td>\n",
              "      <td>default</td>\n",
              "      <td>NaN</td>\n",
              "      <td>False</td>\n",
              "    </tr>\n",
              "    <tr>\n",
              "      <th>2</th>\n",
              "      <td>00016e45-138b-401e-9eac-78b92d48c6c4</td>\n",
              "      <td>2020-12-03 13</td>\n",
              "      <td>1</td>\n",
              "      <td>0</td>\n",
              "      <td>0</td>\n",
              "      <td>0</td>\n",
              "      <td>0</td>\n",
              "      <td>default</td>\n",
              "      <td>NaN</td>\n",
              "      <td>False</td>\n",
              "    </tr>\n",
              "    <tr>\n",
              "      <th>3</th>\n",
              "      <td>0001814e-5cf7-4d23-bc95-4630d9152fc1</td>\n",
              "      <td>2020-12-02 16</td>\n",
              "      <td>1</td>\n",
              "      <td>0</td>\n",
              "      <td>0</td>\n",
              "      <td>0</td>\n",
              "      <td>0</td>\n",
              "      <td>default</td>\n",
              "      <td>NaN</td>\n",
              "      <td>False</td>\n",
              "    </tr>\n",
              "    <tr>\n",
              "      <th>4</th>\n",
              "      <td>00021d91-c65e-4049-9ae1-7d64702c8c12</td>\n",
              "      <td>2020-12-01 08</td>\n",
              "      <td>2</td>\n",
              "      <td>2</td>\n",
              "      <td>2</td>\n",
              "      <td>0</td>\n",
              "      <td>0</td>\n",
              "      <td>default</td>\n",
              "      <td>2020-12-01</td>\n",
              "      <td>True</td>\n",
              "    </tr>\n",
              "  </tbody>\n",
              "</table>\n",
              "</div>"
            ],
            "text/plain": [
              "                           anonymous_id           hour  timestamp_landing  \\\n",
              "0  00001104-4c72-4f48-bb8c-ace2ded63f8b  2020-12-05 10                  2   \n",
              "1  00007575-88d6-4acc-9940-e9ccb8358dca  2020-12-08 11                  1   \n",
              "2  00016e45-138b-401e-9eac-78b92d48c6c4  2020-12-03 13                  1   \n",
              "3  0001814e-5cf7-4d23-bc95-4630d9152fc1  2020-12-02 16                  1   \n",
              "4  00021d91-c65e-4049-9ae1-7d64702c8c12  2020-12-01 08                  2   \n",
              "\n",
              "   timestamp_main  retailer_id  timestamp  source    group         day  \\\n",
              "0               2            2          0       0  default         NaN   \n",
              "1               0            0          0       0  default         NaN   \n",
              "2               0            0          0       0  default         NaN   \n",
              "3               0            0          0       0  default         NaN   \n",
              "4               2            2          0       0  default  2020-12-01   \n",
              "\n",
              "   product_added  \n",
              "0          False  \n",
              "1          False  \n",
              "2          False  \n",
              "3          False  \n",
              "4           True  "
            ]
          },
          "metadata": {
            "tags": []
          },
          "execution_count": 42
        }
      ]
    },
    {
      "cell_type": "code",
      "metadata": {
        "id": "TLhSdjPP1zro",
        "outputId": "81c92a32-3662-4424-8900-d7a0b3f8a56f"
      },
      "source": [
        "type(sessions_w_product['day'][0])"
      ],
      "execution_count": null,
      "outputs": [
        {
          "output_type": "execute_result",
          "data": {
            "text/plain": [
              "float"
            ]
          },
          "metadata": {
            "tags": []
          },
          "execution_count": 38
        }
      ]
    },
    {
      "cell_type": "code",
      "metadata": {
        "id": "X780qJ3v1zro"
      },
      "source": [
        "sessions_w_product['product_added'] = sessions_w_product['day'].notna()"
      ],
      "execution_count": null,
      "outputs": []
    },
    {
      "cell_type": "code",
      "metadata": {
        "id": "lYEjbqsq1zro"
      },
      "source": [
        "sessions_w_p['hour_ts'] = sessions_w_p['hour'].apply(lambda x: pd.to_datetime(x+':00:00'))"
      ],
      "execution_count": null,
      "outputs": []
    },
    {
      "cell_type": "code",
      "metadata": {
        "id": "jWFeL4bY1zrp"
      },
      "source": [
        "sessions_w_p = sessions_w_product.groupby(['hour', 'group']).agg({'anonymous_id':'nunique', 'product_added':'sum'}).reset_index()"
      ],
      "execution_count": null,
      "outputs": []
    },
    {
      "cell_type": "code",
      "metadata": {
        "id": "0OXBQ26j1zrp"
      },
      "source": [
        "sessions_w_p['conversion_rate'] = sessions_w_p['product_added'] / sessions_w_p['anonymous_id']"
      ],
      "execution_count": null,
      "outputs": []
    },
    {
      "cell_type": "code",
      "metadata": {
        "id": "VOjVhPKn1zrp",
        "outputId": "07d2dd14-dba2-4a97-9ee1-eab269d29f85"
      },
      "source": [
        "mannwhitneyu(sessions_w_p[sessions_w_p['group']=='default']['conversion_rate'], sessions_w_p[sessions_w_p['group']=='address_first']['conversion_rate'])"
      ],
      "execution_count": null,
      "outputs": [
        {
          "output_type": "execute_result",
          "data": {
            "text/plain": [
              "MannwhitneyuResult(statistic=131426.0, pvalue=0.10618901573804068)"
            ]
          },
          "metadata": {
            "tags": []
          },
          "execution_count": 49
        }
      ]
    },
    {
      "cell_type": "code",
      "metadata": {
        "id": "fDRQZw3L1zrq",
        "outputId": "e9042d04-8f64-4a00-9847-b575c90853a3"
      },
      "source": [
        "mannwhitneyu(sessions_w_p[(sessions_w_p['group']=='default')&(sessions_w_p['hour'] < '2020-12-11')]['conversion_rate'], sessions_w_p[(sessions_w_p['group']=='address_first')&(sessions_w_p['hour'] < '2020-12-11')]['conversion_rate'])"
      ],
      "execution_count": null,
      "outputs": [
        {
          "output_type": "execute_result",
          "data": {
            "text/plain": [
              "MannwhitneyuResult(statistic=49275.0, pvalue=1.3221586226759172e-08)"
            ]
          },
          "metadata": {
            "tags": []
          },
          "execution_count": 50
        }
      ]
    },
    {
      "cell_type": "code",
      "metadata": {
        "id": "F5rsbdgc1zrq",
        "outputId": "002ebf4b-c47e-474e-bfc6-74d4fb3a1403"
      },
      "source": [
        "sns.lineplot(data=sessions_w_p[sessions_w_p['hour'] < '2020-12-11'], x='hour_ts', y='conversion_rate', hue='group', ci='cd')"
      ],
      "execution_count": null,
      "outputs": [
        {
          "output_type": "execute_result",
          "data": {
            "text/plain": [
              "<matplotlib.axes._subplots.AxesSubplot at 0x7fceccb594e0>"
            ]
          },
          "metadata": {
            "tags": []
          },
          "execution_count": 58
        },
        {
          "output_type": "display_data",
          "data": {
            "image/png": "[encoded data removed]",
            "text/plain": [
              "<matplotlib.figure.Figure at 0x7fceccb932e8>"
            ]
          },
          "metadata": {
            "tags": []
          }
        }
      ]
    },
    {
      "cell_type": "code",
      "metadata": {
        "id": "peMBDFKG1zrr"
      },
      "source": [],
      "execution_count": null,
      "outputs": []
    }
  ]
}